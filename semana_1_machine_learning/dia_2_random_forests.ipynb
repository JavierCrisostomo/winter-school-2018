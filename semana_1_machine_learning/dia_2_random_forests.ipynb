{
 "cells": [
  {
   "cell_type": "code",
   "execution_count": 1,
   "metadata": {},
   "outputs": [],
   "source": [
    "import utils, pickle\n",
    "import numpy as np\n",
    "import pandas as pd\n",
    "import seaborn as sns\n",
    "import matplotlib.pyplot as plt\n",
    "%matplotlib inline\n",
    "\n",
    "pd.set_option('display.max_columns', 50)"
   ]
  },
  {
   "cell_type": "markdown",
   "metadata": {},
   "source": [
    "# Random Forests"
   ]
  },
  {
   "cell_type": "markdown",
   "metadata": {},
   "source": [
    "## Data"
   ]
  },
  {
   "cell_type": "markdown",
   "metadata": {},
   "source": [
    "Census Income Data Set: http://mlr.cs.umass.edu/ml/datasets/Census+Income\n",
    "\n",
    "Abstract: Predict whether income exceeds $50K/yr based on census data. Also known as \"Adult\" dataset."
   ]
  },
  {
   "cell_type": "code",
   "execution_count": 2,
   "metadata": {},
   "outputs": [
    {
     "data": {
      "text/plain": [
       "((32561, 15), (16281, 15))"
      ]
     },
     "execution_count": 2,
     "metadata": {},
     "output_type": "execute_result"
    }
   ],
   "source": [
    "df_raw = pd.read_csv('data/census_train.csv')\n",
    "df_test = pd.read_csv('data/census_test.csv')\n",
    "df_raw.shape, df_test.shape"
   ]
  },
  {
   "cell_type": "code",
   "execution_count": 3,
   "metadata": {},
   "outputs": [
    {
     "data": {
      "text/html": [
       "<div>\n",
       "<style scoped>\n",
       "    .dataframe tbody tr th:only-of-type {\n",
       "        vertical-align: middle;\n",
       "    }\n",
       "\n",
       "    .dataframe tbody tr th {\n",
       "        vertical-align: top;\n",
       "    }\n",
       "\n",
       "    .dataframe thead th {\n",
       "        text-align: right;\n",
       "    }\n",
       "</style>\n",
       "<table border=\"1\" class=\"dataframe\">\n",
       "  <thead>\n",
       "    <tr style=\"text-align: right;\">\n",
       "      <th></th>\n",
       "      <th>age</th>\n",
       "      <th>workclass</th>\n",
       "      <th>fnlwgt</th>\n",
       "      <th>education</th>\n",
       "      <th>education-num</th>\n",
       "      <th>marital-status</th>\n",
       "      <th>occupation</th>\n",
       "      <th>relationship</th>\n",
       "      <th>race</th>\n",
       "      <th>sex</th>\n",
       "      <th>capital-gain</th>\n",
       "      <th>capital-loss</th>\n",
       "      <th>hours-per-week</th>\n",
       "      <th>native-country</th>\n",
       "      <th>label</th>\n",
       "    </tr>\n",
       "  </thead>\n",
       "  <tbody>\n",
       "    <tr>\n",
       "      <th>0</th>\n",
       "      <td>39</td>\n",
       "      <td>State-gov</td>\n",
       "      <td>77516</td>\n",
       "      <td>Bachelors</td>\n",
       "      <td>13</td>\n",
       "      <td>Never-married</td>\n",
       "      <td>Adm-clerical</td>\n",
       "      <td>Not-in-family</td>\n",
       "      <td>White</td>\n",
       "      <td>Male</td>\n",
       "      <td>2174</td>\n",
       "      <td>0</td>\n",
       "      <td>40</td>\n",
       "      <td>United-States</td>\n",
       "      <td>&lt;=50K</td>\n",
       "    </tr>\n",
       "    <tr>\n",
       "      <th>1</th>\n",
       "      <td>50</td>\n",
       "      <td>Self-emp-not-inc</td>\n",
       "      <td>83311</td>\n",
       "      <td>Bachelors</td>\n",
       "      <td>13</td>\n",
       "      <td>Married-civ-spouse</td>\n",
       "      <td>Exec-managerial</td>\n",
       "      <td>Husband</td>\n",
       "      <td>White</td>\n",
       "      <td>Male</td>\n",
       "      <td>0</td>\n",
       "      <td>0</td>\n",
       "      <td>13</td>\n",
       "      <td>United-States</td>\n",
       "      <td>&lt;=50K</td>\n",
       "    </tr>\n",
       "    <tr>\n",
       "      <th>2</th>\n",
       "      <td>38</td>\n",
       "      <td>Private</td>\n",
       "      <td>215646</td>\n",
       "      <td>HS-grad</td>\n",
       "      <td>9</td>\n",
       "      <td>Divorced</td>\n",
       "      <td>Handlers-cleaners</td>\n",
       "      <td>Not-in-family</td>\n",
       "      <td>White</td>\n",
       "      <td>Male</td>\n",
       "      <td>0</td>\n",
       "      <td>0</td>\n",
       "      <td>40</td>\n",
       "      <td>United-States</td>\n",
       "      <td>&lt;=50K</td>\n",
       "    </tr>\n",
       "  </tbody>\n",
       "</table>\n",
       "</div>"
      ],
      "text/plain": [
       "   age          workclass  fnlwgt   education  education-num  \\\n",
       "0   39          State-gov   77516   Bachelors             13   \n",
       "1   50   Self-emp-not-inc   83311   Bachelors             13   \n",
       "2   38            Private  215646     HS-grad              9   \n",
       "\n",
       "        marital-status          occupation    relationship    race    sex  \\\n",
       "0        Never-married        Adm-clerical   Not-in-family   White   Male   \n",
       "1   Married-civ-spouse     Exec-managerial         Husband   White   Male   \n",
       "2             Divorced   Handlers-cleaners   Not-in-family   White   Male   \n",
       "\n",
       "   capital-gain  capital-loss  hours-per-week  native-country   label  \n",
       "0          2174             0              40   United-States   <=50K  \n",
       "1             0             0              13   United-States   <=50K  \n",
       "2             0             0              40   United-States   <=50K  "
      ]
     },
     "execution_count": 3,
     "metadata": {},
     "output_type": "execute_result"
    }
   ],
   "source": [
    "df_raw.head(3)"
   ]
  },
  {
   "cell_type": "markdown",
   "metadata": {},
   "source": [
    "## Ejercicio 1: Preprocesar los datos"
   ]
  },
  {
   "cell_type": "code",
   "execution_count": 4,
   "metadata": {},
   "outputs": [
    {
     "data": {
      "text/plain": [
       "age                  int64\n",
       "workclass         category\n",
       "fnlwgt               int64\n",
       "education         category\n",
       "education-num        int64\n",
       "marital-status      object\n",
       "occupation        category\n",
       "relationship        object\n",
       "race                object\n",
       "sex                 object\n",
       "capital-gain         int64\n",
       "capital-loss         int64\n",
       "hours-per-week       int64\n",
       "native-country    category\n",
       "label               object\n",
       "dtype: object"
      ]
     },
     "execution_count": 4,
     "metadata": {},
     "output_type": "execute_result"
    }
   ],
   "source": [
    "# 1. Convertir las columnas a tipo \"category\",\n",
    "#    pero solo las que tengan más de \"max_dummies\" valores únicos.\n",
    "#    Las variables \"max_dummies\" o menos valores únicos las transformaremos con \"pd.get_dummies\".\n",
    "max_dummies = 7\n",
    "cat_dict = {}\n",
    "\n",
    "for n,col in df_raw.items():\n",
    "    if not pd.api.types.is_numeric_dtype(col) and (col.nunique() > max_dummies):\n",
    "        # Transforma la variable a tipo category\n",
    "        df_raw[n] = col.astype('category')\n",
    "\n",
    "        # Actualiza cat_dict\n",
    "        cat_dict[n] = {i+1:e for i,e in enumerate(df_raw[n].cat.categories)}\n",
    "        \n",
    "        \n",
    "df_raw.dtypes"
   ]
  },
  {
   "cell_type": "code",
   "execution_count": 5,
   "metadata": {},
   "outputs": [
    {
     "data": {
      "text/html": [
       "<div>\n",
       "<style scoped>\n",
       "    .dataframe tbody tr th:only-of-type {\n",
       "        vertical-align: middle;\n",
       "    }\n",
       "\n",
       "    .dataframe tbody tr th {\n",
       "        vertical-align: top;\n",
       "    }\n",
       "\n",
       "    .dataframe thead th {\n",
       "        text-align: right;\n",
       "    }\n",
       "</style>\n",
       "<table border=\"1\" class=\"dataframe\">\n",
       "  <thead>\n",
       "    <tr style=\"text-align: right;\">\n",
       "      <th></th>\n",
       "      <th>age</th>\n",
       "      <th>workclass</th>\n",
       "      <th>fnlwgt</th>\n",
       "      <th>education</th>\n",
       "      <th>education-num</th>\n",
       "      <th>marital-status</th>\n",
       "      <th>occupation</th>\n",
       "      <th>relationship</th>\n",
       "      <th>race</th>\n",
       "      <th>sex</th>\n",
       "      <th>capital-gain</th>\n",
       "      <th>capital-loss</th>\n",
       "      <th>hours-per-week</th>\n",
       "      <th>native-country</th>\n",
       "      <th>label</th>\n",
       "    </tr>\n",
       "  </thead>\n",
       "  <tbody>\n",
       "    <tr>\n",
       "      <th>0</th>\n",
       "      <td>39</td>\n",
       "      <td>8</td>\n",
       "      <td>77516</td>\n",
       "      <td>10</td>\n",
       "      <td>13</td>\n",
       "      <td>Never-married</td>\n",
       "      <td>2</td>\n",
       "      <td>Not-in-family</td>\n",
       "      <td>White</td>\n",
       "      <td>Male</td>\n",
       "      <td>2174</td>\n",
       "      <td>0</td>\n",
       "      <td>40</td>\n",
       "      <td>40</td>\n",
       "      <td>&lt;=50K</td>\n",
       "    </tr>\n",
       "    <tr>\n",
       "      <th>1</th>\n",
       "      <td>50</td>\n",
       "      <td>7</td>\n",
       "      <td>83311</td>\n",
       "      <td>10</td>\n",
       "      <td>13</td>\n",
       "      <td>Married-civ-spouse</td>\n",
       "      <td>5</td>\n",
       "      <td>Husband</td>\n",
       "      <td>White</td>\n",
       "      <td>Male</td>\n",
       "      <td>0</td>\n",
       "      <td>0</td>\n",
       "      <td>13</td>\n",
       "      <td>40</td>\n",
       "      <td>&lt;=50K</td>\n",
       "    </tr>\n",
       "    <tr>\n",
       "      <th>2</th>\n",
       "      <td>38</td>\n",
       "      <td>5</td>\n",
       "      <td>215646</td>\n",
       "      <td>12</td>\n",
       "      <td>9</td>\n",
       "      <td>Divorced</td>\n",
       "      <td>7</td>\n",
       "      <td>Not-in-family</td>\n",
       "      <td>White</td>\n",
       "      <td>Male</td>\n",
       "      <td>0</td>\n",
       "      <td>0</td>\n",
       "      <td>40</td>\n",
       "      <td>40</td>\n",
       "      <td>&lt;=50K</td>\n",
       "    </tr>\n",
       "  </tbody>\n",
       "</table>\n",
       "</div>"
      ],
      "text/plain": [
       "   age  workclass  fnlwgt  education  education-num       marital-status  \\\n",
       "0   39          8   77516         10             13        Never-married   \n",
       "1   50          7   83311         10             13   Married-civ-spouse   \n",
       "2   38          5  215646         12              9             Divorced   \n",
       "\n",
       "   occupation    relationship    race    sex  capital-gain  capital-loss  \\\n",
       "0           2   Not-in-family   White   Male          2174             0   \n",
       "1           5         Husband   White   Male             0             0   \n",
       "2           7   Not-in-family   White   Male             0             0   \n",
       "\n",
       "   hours-per-week  native-country   label  \n",
       "0              40              40   <=50K  \n",
       "1              13              40   <=50K  \n",
       "2              40              40   <=50K  "
      ]
     },
     "execution_count": 5,
     "metadata": {},
     "output_type": "execute_result"
    }
   ],
   "source": [
    "# 2. El dataset no tiene data faltante, por que vamos directo a trasnformar\n",
    "#    las columnas categóricas a numéricas.\n",
    "df = df_raw.copy()\n",
    "\n",
    "# Convertir cada columna categórica a numérica\n",
    "for n,col in df.items():\n",
    "    if pd.api.types.is_categorical_dtype(col):\n",
    "        df[n] = col.cat.codes+1\n",
    "        \n",
    "df.head(3)"
   ]
  },
  {
   "cell_type": "code",
   "execution_count": 6,
   "metadata": {},
   "outputs": [
    {
     "data": {
      "text/html": [
       "<div>\n",
       "<style scoped>\n",
       "    .dataframe tbody tr th:only-of-type {\n",
       "        vertical-align: middle;\n",
       "    }\n",
       "\n",
       "    .dataframe tbody tr th {\n",
       "        vertical-align: top;\n",
       "    }\n",
       "\n",
       "    .dataframe thead th {\n",
       "        text-align: right;\n",
       "    }\n",
       "</style>\n",
       "<table border=\"1\" class=\"dataframe\">\n",
       "  <thead>\n",
       "    <tr style=\"text-align: right;\">\n",
       "      <th></th>\n",
       "      <th>age</th>\n",
       "      <th>workclass</th>\n",
       "      <th>fnlwgt</th>\n",
       "      <th>education</th>\n",
       "      <th>education-num</th>\n",
       "      <th>occupation</th>\n",
       "      <th>capital-gain</th>\n",
       "      <th>capital-loss</th>\n",
       "      <th>hours-per-week</th>\n",
       "      <th>native-country</th>\n",
       "      <th>marital-status_ Divorced</th>\n",
       "      <th>marital-status_ Married-AF-spouse</th>\n",
       "      <th>marital-status_ Married-civ-spouse</th>\n",
       "      <th>marital-status_ Married-spouse-absent</th>\n",
       "      <th>marital-status_ Never-married</th>\n",
       "      <th>marital-status_ Separated</th>\n",
       "      <th>marital-status_ Widowed</th>\n",
       "      <th>relationship_ Husband</th>\n",
       "      <th>relationship_ Not-in-family</th>\n",
       "      <th>relationship_ Other-relative</th>\n",
       "      <th>relationship_ Own-child</th>\n",
       "      <th>relationship_ Unmarried</th>\n",
       "      <th>relationship_ Wife</th>\n",
       "      <th>race_ Amer-Indian-Eskimo</th>\n",
       "      <th>race_ Asian-Pac-Islander</th>\n",
       "      <th>race_ Black</th>\n",
       "      <th>race_ Other</th>\n",
       "      <th>race_ White</th>\n",
       "      <th>sex_ Female</th>\n",
       "      <th>sex_ Male</th>\n",
       "    </tr>\n",
       "  </thead>\n",
       "  <tbody>\n",
       "    <tr>\n",
       "      <th>0</th>\n",
       "      <td>39</td>\n",
       "      <td>8</td>\n",
       "      <td>77516</td>\n",
       "      <td>10</td>\n",
       "      <td>13</td>\n",
       "      <td>2</td>\n",
       "      <td>2174</td>\n",
       "      <td>0</td>\n",
       "      <td>40</td>\n",
       "      <td>40</td>\n",
       "      <td>0</td>\n",
       "      <td>0</td>\n",
       "      <td>0</td>\n",
       "      <td>0</td>\n",
       "      <td>1</td>\n",
       "      <td>0</td>\n",
       "      <td>0</td>\n",
       "      <td>0</td>\n",
       "      <td>1</td>\n",
       "      <td>0</td>\n",
       "      <td>0</td>\n",
       "      <td>0</td>\n",
       "      <td>0</td>\n",
       "      <td>0</td>\n",
       "      <td>0</td>\n",
       "      <td>0</td>\n",
       "      <td>0</td>\n",
       "      <td>1</td>\n",
       "      <td>0</td>\n",
       "      <td>1</td>\n",
       "    </tr>\n",
       "    <tr>\n",
       "      <th>1</th>\n",
       "      <td>50</td>\n",
       "      <td>7</td>\n",
       "      <td>83311</td>\n",
       "      <td>10</td>\n",
       "      <td>13</td>\n",
       "      <td>5</td>\n",
       "      <td>0</td>\n",
       "      <td>0</td>\n",
       "      <td>13</td>\n",
       "      <td>40</td>\n",
       "      <td>0</td>\n",
       "      <td>0</td>\n",
       "      <td>1</td>\n",
       "      <td>0</td>\n",
       "      <td>0</td>\n",
       "      <td>0</td>\n",
       "      <td>0</td>\n",
       "      <td>1</td>\n",
       "      <td>0</td>\n",
       "      <td>0</td>\n",
       "      <td>0</td>\n",
       "      <td>0</td>\n",
       "      <td>0</td>\n",
       "      <td>0</td>\n",
       "      <td>0</td>\n",
       "      <td>0</td>\n",
       "      <td>0</td>\n",
       "      <td>1</td>\n",
       "      <td>0</td>\n",
       "      <td>1</td>\n",
       "    </tr>\n",
       "  </tbody>\n",
       "</table>\n",
       "</div>"
      ],
      "text/plain": [
       "   age  workclass  fnlwgt  education  education-num  occupation  capital-gain  \\\n",
       "0   39          8   77516         10             13           2          2174   \n",
       "1   50          7   83311         10             13           5             0   \n",
       "\n",
       "   capital-loss  hours-per-week  native-country  marital-status_ Divorced  \\\n",
       "0             0              40              40                         0   \n",
       "1             0              13              40                         0   \n",
       "\n",
       "   marital-status_ Married-AF-spouse  marital-status_ Married-civ-spouse  \\\n",
       "0                                  0                                   0   \n",
       "1                                  0                                   1   \n",
       "\n",
       "   marital-status_ Married-spouse-absent  marital-status_ Never-married  \\\n",
       "0                                      0                              1   \n",
       "1                                      0                              0   \n",
       "\n",
       "   marital-status_ Separated  marital-status_ Widowed  relationship_ Husband  \\\n",
       "0                          0                        0                      0   \n",
       "1                          0                        0                      1   \n",
       "\n",
       "   relationship_ Not-in-family  relationship_ Other-relative  \\\n",
       "0                            1                             0   \n",
       "1                            0                             0   \n",
       "\n",
       "   relationship_ Own-child  relationship_ Unmarried  relationship_ Wife  \\\n",
       "0                        0                        0                   0   \n",
       "1                        0                        0                   0   \n",
       "\n",
       "   race_ Amer-Indian-Eskimo  race_ Asian-Pac-Islander  race_ Black  \\\n",
       "0                         0                         0            0   \n",
       "1                         0                         0            0   \n",
       "\n",
       "   race_ Other  race_ White  sex_ Female  sex_ Male  \n",
       "0            0            1            0          1  \n",
       "1            0            1            0          1  "
      ]
     },
     "execution_count": 6,
     "metadata": {},
     "output_type": "execute_result"
    }
   ],
   "source": [
    "# 3. Separamos las variables dependientes e independientes y\n",
    "#    aplicamos dummies.\n",
    "#    * La variable dependiente no necesita ser numérica.\n",
    "x = pd.get_dummies(df.drop('label', axis=1))\n",
    "y = df['label']\n",
    "\n",
    "x.head(2)"
   ]
  },
  {
   "cell_type": "code",
   "execution_count": 7,
   "metadata": {},
   "outputs": [
    {
     "name": "stdout",
     "output_type": "stream",
     "text": [
      "Train shape     : (26048, 30)\n",
      "Validation shape: (6513, 30)\n"
     ]
    }
   ],
   "source": [
    "# 4. Train-validation split\n",
    "from sklearn.model_selection import train_test_split\n",
    "\n",
    "x_train, x_val, y_train, y_val = train_test_split(x, y, test_size=0.2, random_state=42)\n",
    "print(f'Train shape     : {x_train.shape}')\n",
    "print(f'Validation shape: {x_val.shape}')"
   ]
  },
  {
   "cell_type": "markdown",
   "metadata": {},
   "source": [
    "## Entrenando un Random Forest"
   ]
  },
  {
   "cell_type": "code",
   "execution_count": 8,
   "metadata": {},
   "outputs": [
    {
     "data": {
      "text/plain": [
       "RandomForestClassifier(bootstrap=True, class_weight=None, criterion='gini',\n",
       "            max_depth=None, max_features='auto', max_leaf_nodes=None,\n",
       "            min_impurity_decrease=0.0, min_impurity_split=None,\n",
       "            min_samples_leaf=1, min_samples_split=2,\n",
       "            min_weight_fraction_leaf=0.0, n_estimators=10, n_jobs=-1,\n",
       "            oob_score=False, random_state=None, verbose=0,\n",
       "            warm_start=False)"
      ]
     },
     "execution_count": 8,
     "metadata": {},
     "output_type": "execute_result"
    }
   ],
   "source": [
    "from sklearn.ensemble import RandomForestClassifier\n",
    "\n",
    "m = RandomForestClassifier(n_estimators=10, n_jobs=-1)\n",
    "m.fit(x_train, y_train)"
   ]
  },
  {
   "cell_type": "code",
   "execution_count": 9,
   "metadata": {},
   "outputs": [
    {
     "name": "stdout",
     "output_type": "stream",
     "text": [
      "Train score      = 0.9885\n",
      "Validation score = 0.8534\n"
     ]
    }
   ],
   "source": [
    "# Vamos a definir una función para ver los resultados del entrenamiento.\n",
    "def score():\n",
    "    print(f'Train score      = {m.score(x_train, y_train):.4}')\n",
    "    print(f'Validation score = {m.score(x_val, y_val):.4}')\n",
    "    \n",
    "score()    "
   ]
  },
  {
   "cell_type": "code",
   "execution_count": 10,
   "metadata": {
    "scrolled": true
   },
   "outputs": [
    {
     "name": "stdout",
     "output_type": "stream",
     "text": [
      "(10, 6513)\n"
     ]
    },
    {
     "data": {
      "text/plain": [
       "array([[0., 1., 1., ..., 1., 0., 0.],\n",
       "       [0., 1., 0., ..., 1., 0., 0.],\n",
       "       [0., 0., 0., ..., 1., 0., 0.],\n",
       "       ...,\n",
       "       [0., 0., 1., ..., 1., 0., 0.],\n",
       "       [0., 0., 0., ..., 1., 0., 0.],\n",
       "       [0., 0., 0., ..., 1., 0., 0.]])"
      ]
     },
     "execution_count": 10,
     "metadata": {},
     "output_type": "execute_result"
    }
   ],
   "source": [
    "# El parámetro \"estimators_\" del modelo, contiene los árboles entrenados.\n",
    "# Vamos a obtener las prediciones de cada árbol\n",
    "preds = np.stack([t.predict(x_val) for t in m.estimators_])\n",
    "print(preds.shape)\n",
    "preds"
   ]
  },
  {
   "cell_type": "code",
   "execution_count": 11,
   "metadata": {},
   "outputs": [
    {
     "data": {
      "image/png": "[encoded data removed]",
      "text/plain": [
       "<Figure size 432x288 with 1 Axes>"
      ]
     },
     "metadata": {},
     "output_type": "display_data"
    }
   ],
   "source": [
    "# Veamos el score de cada árbol\n",
    "from sklearn.metrics import accuracy_score\n",
    "\n",
    "accs = [accuracy_score(y_val==' >50K', p) for p in preds]\n",
    "plt.plot(accs, '-o');"
   ]
  },
  {
   "cell_type": "code",
   "execution_count": 12,
   "metadata": {},
   "outputs": [
    {
     "data": {
      "image/png": "[encoded data removed]",
      "text/plain": [
       "<Figure size 432x288 with 1 Axes>"
      ]
     },
     "metadata": {},
     "output_type": "display_data"
    }
   ],
   "source": [
    "# Ahora veamos el score acumulado\n",
    "acum_accs = [accuracy_score(y_val==' >50K', np.mean(preds[:i+1,:], axis=0) > 0.5) for i in range(len(preds))]\n",
    "plt.plot(acum_accs, '-o');"
   ]
  },
  {
   "cell_type": "code",
   "execution_count": 13,
   "metadata": {},
   "outputs": [
    {
     "data": {
      "text/plain": [
       "(False, 0.5)"
      ]
     },
     "execution_count": 13,
     "metadata": {},
     "output_type": "execute_result"
    }
   ],
   "source": [
    "# Usemos los árboles para obtener una predicción con una estimación de confianza.\n",
    "sample = x_val.sample(1)\n",
    "\n",
    "pred = np.stack([t.predict(sample) for t in m.estimators_])\n",
    "\n",
    "pred.mean() > 0.5, pred.std()"
   ]
  },
  {
   "cell_type": "markdown",
   "metadata": {},
   "source": [
    "## Out-of-bag (OOB) score"
   ]
  },
  {
   "cell_type": "markdown",
   "metadata": {},
   "source": [
    "¿Nuestra validación es peor en el conjunto de validación debido a overfitting, o es porque el conjunto de validación es para un período de tiempo diferente, o un poco de ambos?\n",
    "\n",
    "Con la información existente que hemos mostrado, no podemos decirlo. Sin embargo, los bosques aleatorios tienen un truco muy ingenioso: oobs core (error fuera de la bolsa).\n",
    "\n",
    "La idea es calcular el error en el conjunto de entrenamiento, donde la predicción de cada elemento se haga sólo por los árboles que no lo incluyeron en su entrenamiento. Esto nos permite ver si el modelo se ajusta demasiado, sin necesidad de un conjunto de validación por separado."
   ]
  },
  {
   "cell_type": "code",
   "execution_count": 14,
   "metadata": {},
   "outputs": [
    {
     "data": {
      "text/plain": [
       "RandomForestClassifier(bootstrap=True, class_weight=None, criterion='gini',\n",
       "            max_depth=None, max_features='auto', max_leaf_nodes=None,\n",
       "            min_impurity_decrease=0.0, min_impurity_split=None,\n",
       "            min_samples_leaf=1, min_samples_split=2,\n",
       "            min_weight_fraction_leaf=0.0, n_estimators=40, n_jobs=-1,\n",
       "            oob_score=True, random_state=None, verbose=0, warm_start=False)"
      ]
     },
     "execution_count": 14,
     "metadata": {},
     "output_type": "execute_result"
    }
   ],
   "source": [
    "m = RandomForestClassifier(n_estimators=40, n_jobs=-1, oob_score=True)\n",
    "m.fit(x_train, y_train)"
   ]
  },
  {
   "cell_type": "code",
   "execution_count": 15,
   "metadata": {},
   "outputs": [
    {
     "data": {
      "text/plain": [
       "0.8492782555282555"
      ]
     },
     "execution_count": 15,
     "metadata": {},
     "output_type": "execute_result"
    }
   ],
   "source": [
    "m.oob_score_"
   ]
  },
  {
   "cell_type": "code",
   "execution_count": 16,
   "metadata": {},
   "outputs": [
    {
     "name": "stdout",
     "output_type": "stream",
     "text": [
      "Train score      = 0.9995\n",
      "Validation score = 0.8594\n",
      "OOB score        = 0.8493\n"
     ]
    }
   ],
   "source": [
    "# Vamos a modificar la función score, para incluir el oob score.\n",
    "def score():\n",
    "    print(f'Train score      = {m.score(x_train, y_train):.4}')\n",
    "    print(f'Validation score = {m.score(x_val, y_val):.4}')\n",
    "    if hasattr(m, 'oob_score_'): print(f'OOB score        = {m.oob_score_:.4}')\n",
    "    \n",
    "score()    "
   ]
  },
  {
   "cell_type": "markdown",
   "metadata": {},
   "source": [
    "**Algunos paŕametros importantes al crear un Random Forest:**\n",
    "* n_estimators: cantidad de árboles\n",
    "* max_depth: la máxima profundidad de cada árbol\n",
    "* min_samples_leaf: cantidad de muestras mínimas para que puede tener una rama.\n",
    "* max_features: cantidad de columnas que ve cada árbol."
   ]
  },
  {
   "cell_type": "markdown",
   "metadata": {},
   "source": [
    "# Regresión"
   ]
  },
  {
   "cell_type": "markdown",
   "metadata": {},
   "source": [
    "House Sales Prediction Data Set: https://www.kaggle.com/harlfoxem/housesalesprediction/home\n",
    "\n",
    "Abstract: This dataset contains house sale prices for King County, which includes Seattle. It includes homes sold between May 2014 and May 2015."
   ]
  },
  {
   "cell_type": "markdown",
   "metadata": {},
   "source": [
    "- **id**: a notation for a house\n",
    "- **date**: Date house was sold\n",
    "- **price**: Price is prediction target\n",
    "- **bedrooms**: Number of Bedrooms/House\n",
    "- **bathrooms**: Number of bathrooms/bedrooms\n",
    "- **sqft_living**: square footage of the home\n",
    "- **sqft_lot**: square footage of the lot\n",
    "- **floors**: Total floors (levels) in house\n",
    "- **waterfront**: House which has a view to a waterfront\n",
    "- **view**: Has been viewed\n",
    "- **condition**: How good the condition is ( Overall )\n",
    "- **grade**: overall grade given to the housing unit, based on King County grading system\n",
    "- **sqft_above**: square footage of house apart from basement\n",
    "- **sqft_basement**: square footage of the basement\n",
    "- **yr_built**: Built Year\n",
    "- **yr_renovated**: Year when house was renovated\n",
    "- **zipcode**: zip\n",
    "- **lat**: Latitude coordinate\n",
    "- **long**: Longitude coordinate\n",
    "- **sqft_living15**: Living room area in 2015(implies-- some renovations) This might or might not have affected the lotsize area\n",
    "- **sqft_lot15**: lotSize area in 2015(implies-- some renovations)"
   ]
  },
  {
   "cell_type": "code",
   "execution_count": 17,
   "metadata": {},
   "outputs": [
    {
     "name": "stdout",
     "output_type": "stream",
     "text": [
      "(21613, 21)\n"
     ]
    },
    {
     "data": {
      "text/html": [
       "<div>\n",
       "<style scoped>\n",
       "    .dataframe tbody tr th:only-of-type {\n",
       "        vertical-align: middle;\n",
       "    }\n",
       "\n",
       "    .dataframe tbody tr th {\n",
       "        vertical-align: top;\n",
       "    }\n",
       "\n",
       "    .dataframe thead th {\n",
       "        text-align: right;\n",
       "    }\n",
       "</style>\n",
       "<table border=\"1\" class=\"dataframe\">\n",
       "  <thead>\n",
       "    <tr style=\"text-align: right;\">\n",
       "      <th></th>\n",
       "      <th>id</th>\n",
       "      <th>date</th>\n",
       "      <th>price</th>\n",
       "      <th>bedrooms</th>\n",
       "      <th>bathrooms</th>\n",
       "      <th>sqft_living</th>\n",
       "      <th>sqft_lot</th>\n",
       "      <th>floors</th>\n",
       "      <th>waterfront</th>\n",
       "      <th>view</th>\n",
       "      <th>condition</th>\n",
       "      <th>grade</th>\n",
       "      <th>sqft_above</th>\n",
       "      <th>sqft_basement</th>\n",
       "      <th>yr_built</th>\n",
       "      <th>yr_renovated</th>\n",
       "      <th>zipcode</th>\n",
       "      <th>lat</th>\n",
       "      <th>long</th>\n",
       "      <th>sqft_living15</th>\n",
       "      <th>sqft_lot15</th>\n",
       "    </tr>\n",
       "  </thead>\n",
       "  <tbody>\n",
       "    <tr>\n",
       "      <th>0</th>\n",
       "      <td>7129300520</td>\n",
       "      <td>2014-10-13</td>\n",
       "      <td>221900.0</td>\n",
       "      <td>3</td>\n",
       "      <td>1.00</td>\n",
       "      <td>1180</td>\n",
       "      <td>5650</td>\n",
       "      <td>1.0</td>\n",
       "      <td>0</td>\n",
       "      <td>0</td>\n",
       "      <td>3</td>\n",
       "      <td>7</td>\n",
       "      <td>1180</td>\n",
       "      <td>0</td>\n",
       "      <td>1955</td>\n",
       "      <td>0</td>\n",
       "      <td>98178</td>\n",
       "      <td>47.5112</td>\n",
       "      <td>-122.257</td>\n",
       "      <td>1340</td>\n",
       "      <td>5650</td>\n",
       "    </tr>\n",
       "    <tr>\n",
       "      <th>1</th>\n",
       "      <td>6414100192</td>\n",
       "      <td>2014-12-09</td>\n",
       "      <td>538000.0</td>\n",
       "      <td>3</td>\n",
       "      <td>2.25</td>\n",
       "      <td>2570</td>\n",
       "      <td>7242</td>\n",
       "      <td>2.0</td>\n",
       "      <td>0</td>\n",
       "      <td>0</td>\n",
       "      <td>3</td>\n",
       "      <td>7</td>\n",
       "      <td>2170</td>\n",
       "      <td>400</td>\n",
       "      <td>1951</td>\n",
       "      <td>1991</td>\n",
       "      <td>98125</td>\n",
       "      <td>47.7210</td>\n",
       "      <td>-122.319</td>\n",
       "      <td>1690</td>\n",
       "      <td>7639</td>\n",
       "    </tr>\n",
       "    <tr>\n",
       "      <th>2</th>\n",
       "      <td>5631500400</td>\n",
       "      <td>2015-02-25</td>\n",
       "      <td>180000.0</td>\n",
       "      <td>2</td>\n",
       "      <td>1.00</td>\n",
       "      <td>770</td>\n",
       "      <td>10000</td>\n",
       "      <td>1.0</td>\n",
       "      <td>0</td>\n",
       "      <td>0</td>\n",
       "      <td>3</td>\n",
       "      <td>6</td>\n",
       "      <td>770</td>\n",
       "      <td>0</td>\n",
       "      <td>1933</td>\n",
       "      <td>0</td>\n",
       "      <td>98028</td>\n",
       "      <td>47.7379</td>\n",
       "      <td>-122.233</td>\n",
       "      <td>2720</td>\n",
       "      <td>8062</td>\n",
       "    </tr>\n",
       "    <tr>\n",
       "      <th>3</th>\n",
       "      <td>2487200875</td>\n",
       "      <td>2014-12-09</td>\n",
       "      <td>604000.0</td>\n",
       "      <td>4</td>\n",
       "      <td>3.00</td>\n",
       "      <td>1960</td>\n",
       "      <td>5000</td>\n",
       "      <td>1.0</td>\n",
       "      <td>0</td>\n",
       "      <td>0</td>\n",
       "      <td>5</td>\n",
       "      <td>7</td>\n",
       "      <td>1050</td>\n",
       "      <td>910</td>\n",
       "      <td>1965</td>\n",
       "      <td>0</td>\n",
       "      <td>98136</td>\n",
       "      <td>47.5208</td>\n",
       "      <td>-122.393</td>\n",
       "      <td>1360</td>\n",
       "      <td>5000</td>\n",
       "    </tr>\n",
       "    <tr>\n",
       "      <th>4</th>\n",
       "      <td>1954400510</td>\n",
       "      <td>2015-02-18</td>\n",
       "      <td>510000.0</td>\n",
       "      <td>3</td>\n",
       "      <td>2.00</td>\n",
       "      <td>1680</td>\n",
       "      <td>8080</td>\n",
       "      <td>1.0</td>\n",
       "      <td>0</td>\n",
       "      <td>0</td>\n",
       "      <td>3</td>\n",
       "      <td>8</td>\n",
       "      <td>1680</td>\n",
       "      <td>0</td>\n",
       "      <td>1987</td>\n",
       "      <td>0</td>\n",
       "      <td>98074</td>\n",
       "      <td>47.6168</td>\n",
       "      <td>-122.045</td>\n",
       "      <td>1800</td>\n",
       "      <td>7503</td>\n",
       "    </tr>\n",
       "  </tbody>\n",
       "</table>\n",
       "</div>"
      ],
      "text/plain": [
       "           id       date     price  bedrooms  bathrooms  sqft_living  \\\n",
       "0  7129300520 2014-10-13  221900.0         3       1.00         1180   \n",
       "1  6414100192 2014-12-09  538000.0         3       2.25         2570   \n",
       "2  5631500400 2015-02-25  180000.0         2       1.00          770   \n",
       "3  2487200875 2014-12-09  604000.0         4       3.00         1960   \n",
       "4  1954400510 2015-02-18  510000.0         3       2.00         1680   \n",
       "\n",
       "   sqft_lot  floors  waterfront  view  condition  grade  sqft_above  \\\n",
       "0      5650     1.0           0     0          3      7        1180   \n",
       "1      7242     2.0           0     0          3      7        2170   \n",
       "2     10000     1.0           0     0          3      6         770   \n",
       "3      5000     1.0           0     0          5      7        1050   \n",
       "4      8080     1.0           0     0          3      8        1680   \n",
       "\n",
       "   sqft_basement  yr_built  yr_renovated  zipcode      lat     long  \\\n",
       "0              0      1955             0    98178  47.5112 -122.257   \n",
       "1            400      1951          1991    98125  47.7210 -122.319   \n",
       "2              0      1933             0    98028  47.7379 -122.233   \n",
       "3            910      1965             0    98136  47.5208 -122.393   \n",
       "4              0      1987             0    98074  47.6168 -122.045   \n",
       "\n",
       "   sqft_living15  sqft_lot15  \n",
       "0           1340        5650  \n",
       "1           1690        7639  \n",
       "2           2720        8062  \n",
       "3           1360        5000  \n",
       "4           1800        7503  "
      ]
     },
     "execution_count": 17,
     "metadata": {},
     "output_type": "execute_result"
    }
   ],
   "source": [
    "df_raw = pd.read_csv('data/kc_house_data.csv', parse_dates=['date'])\n",
    "print(df_raw.shape)\n",
    "df_raw.head()"
   ]
  },
  {
   "cell_type": "markdown",
   "metadata": {},
   "source": [
    "## Preprocess"
   ]
  },
  {
   "cell_type": "markdown",
   "metadata": {},
   "source": [
    "### Fechas"
   ]
  },
  {
   "cell_type": "code",
   "execution_count": 18,
   "metadata": {},
   "outputs": [
    {
     "data": {
      "text/plain": [
       "count                   21613\n",
       "unique                    372\n",
       "top       2014-06-23 00:00:00\n",
       "freq                      142\n",
       "first     2014-05-02 00:00:00\n",
       "last      2015-05-27 00:00:00\n",
       "Name: date, dtype: object"
      ]
     },
     "execution_count": 18,
     "metadata": {},
     "output_type": "execute_result"
    }
   ],
   "source": [
    "df_raw.date.describe()"
   ]
  },
  {
   "cell_type": "code",
   "execution_count": 19,
   "metadata": {},
   "outputs": [
    {
     "data": {
      "text/plain": [
       "0    2014\n",
       "1    2014\n",
       "2    2015\n",
       "3    2014\n",
       "4    2015\n",
       "Name: date, dtype: int64"
      ]
     },
     "execution_count": 19,
     "metadata": {},
     "output_type": "execute_result"
    }
   ],
   "source": [
    "# Podemos usar \"dt\" para acceder a los métodos de fechas.\n",
    "df_raw.date.dt.year.head()"
   ]
  },
  {
   "cell_type": "code",
   "execution_count": 20,
   "metadata": {},
   "outputs": [
    {
     "data": {
      "text/html": [
       "<div>\n",
       "<style scoped>\n",
       "    .dataframe tbody tr th:only-of-type {\n",
       "        vertical-align: middle;\n",
       "    }\n",
       "\n",
       "    .dataframe tbody tr th {\n",
       "        vertical-align: top;\n",
       "    }\n",
       "\n",
       "    .dataframe thead th {\n",
       "        text-align: right;\n",
       "    }\n",
       "</style>\n",
       "<table border=\"1\" class=\"dataframe\">\n",
       "  <thead>\n",
       "    <tr style=\"text-align: right;\">\n",
       "      <th></th>\n",
       "      <th>id</th>\n",
       "      <th>price</th>\n",
       "      <th>bedrooms</th>\n",
       "      <th>bathrooms</th>\n",
       "      <th>sqft_living</th>\n",
       "      <th>sqft_lot</th>\n",
       "      <th>floors</th>\n",
       "      <th>waterfront</th>\n",
       "      <th>view</th>\n",
       "      <th>condition</th>\n",
       "      <th>grade</th>\n",
       "      <th>sqft_above</th>\n",
       "      <th>sqft_basement</th>\n",
       "      <th>yr_built</th>\n",
       "      <th>yr_renovated</th>\n",
       "      <th>zipcode</th>\n",
       "      <th>lat</th>\n",
       "      <th>long</th>\n",
       "      <th>sqft_living15</th>\n",
       "      <th>sqft_lot15</th>\n",
       "      <th>date_Year</th>\n",
       "      <th>date_Month</th>\n",
       "      <th>date_Week</th>\n",
       "      <th>date_Day</th>\n",
       "      <th>date_Dayofweek</th>\n",
       "      <th>date_Dayofyear</th>\n",
       "      <th>date_Is_month_end</th>\n",
       "      <th>date_Is_month_start</th>\n",
       "      <th>date_Is_quarter_end</th>\n",
       "      <th>date_Is_quarter_start</th>\n",
       "      <th>date_Is_year_end</th>\n",
       "      <th>date_Is_year_start</th>\n",
       "      <th>date_elapsed</th>\n",
       "    </tr>\n",
       "  </thead>\n",
       "  <tbody>\n",
       "    <tr>\n",
       "      <th>0</th>\n",
       "      <td>7129300520</td>\n",
       "      <td>221900.0</td>\n",
       "      <td>3</td>\n",
       "      <td>1.00</td>\n",
       "      <td>1180</td>\n",
       "      <td>5650</td>\n",
       "      <td>1.0</td>\n",
       "      <td>0</td>\n",
       "      <td>0</td>\n",
       "      <td>3</td>\n",
       "      <td>7</td>\n",
       "      <td>1180</td>\n",
       "      <td>0</td>\n",
       "      <td>1955</td>\n",
       "      <td>0</td>\n",
       "      <td>98178</td>\n",
       "      <td>47.5112</td>\n",
       "      <td>-122.257</td>\n",
       "      <td>1340</td>\n",
       "      <td>5650</td>\n",
       "      <td>2014</td>\n",
       "      <td>10</td>\n",
       "      <td>42</td>\n",
       "      <td>13</td>\n",
       "      <td>0</td>\n",
       "      <td>286</td>\n",
       "      <td>False</td>\n",
       "      <td>False</td>\n",
       "      <td>False</td>\n",
       "      <td>False</td>\n",
       "      <td>False</td>\n",
       "      <td>False</td>\n",
       "      <td>1413158400</td>\n",
       "    </tr>\n",
       "    <tr>\n",
       "      <th>1</th>\n",
       "      <td>6414100192</td>\n",
       "      <td>538000.0</td>\n",
       "      <td>3</td>\n",
       "      <td>2.25</td>\n",
       "      <td>2570</td>\n",
       "      <td>7242</td>\n",
       "      <td>2.0</td>\n",
       "      <td>0</td>\n",
       "      <td>0</td>\n",
       "      <td>3</td>\n",
       "      <td>7</td>\n",
       "      <td>2170</td>\n",
       "      <td>400</td>\n",
       "      <td>1951</td>\n",
       "      <td>1991</td>\n",
       "      <td>98125</td>\n",
       "      <td>47.7210</td>\n",
       "      <td>-122.319</td>\n",
       "      <td>1690</td>\n",
       "      <td>7639</td>\n",
       "      <td>2014</td>\n",
       "      <td>12</td>\n",
       "      <td>50</td>\n",
       "      <td>9</td>\n",
       "      <td>1</td>\n",
       "      <td>343</td>\n",
       "      <td>False</td>\n",
       "      <td>False</td>\n",
       "      <td>False</td>\n",
       "      <td>False</td>\n",
       "      <td>False</td>\n",
       "      <td>False</td>\n",
       "      <td>1418083200</td>\n",
       "    </tr>\n",
       "    <tr>\n",
       "      <th>2</th>\n",
       "      <td>5631500400</td>\n",
       "      <td>180000.0</td>\n",
       "      <td>2</td>\n",
       "      <td>1.00</td>\n",
       "      <td>770</td>\n",
       "      <td>10000</td>\n",
       "      <td>1.0</td>\n",
       "      <td>0</td>\n",
       "      <td>0</td>\n",
       "      <td>3</td>\n",
       "      <td>6</td>\n",
       "      <td>770</td>\n",
       "      <td>0</td>\n",
       "      <td>1933</td>\n",
       "      <td>0</td>\n",
       "      <td>98028</td>\n",
       "      <td>47.7379</td>\n",
       "      <td>-122.233</td>\n",
       "      <td>2720</td>\n",
       "      <td>8062</td>\n",
       "      <td>2015</td>\n",
       "      <td>2</td>\n",
       "      <td>9</td>\n",
       "      <td>25</td>\n",
       "      <td>2</td>\n",
       "      <td>56</td>\n",
       "      <td>False</td>\n",
       "      <td>False</td>\n",
       "      <td>False</td>\n",
       "      <td>False</td>\n",
       "      <td>False</td>\n",
       "      <td>False</td>\n",
       "      <td>1424822400</td>\n",
       "    </tr>\n",
       "    <tr>\n",
       "      <th>3</th>\n",
       "      <td>2487200875</td>\n",
       "      <td>604000.0</td>\n",
       "      <td>4</td>\n",
       "      <td>3.00</td>\n",
       "      <td>1960</td>\n",
       "      <td>5000</td>\n",
       "      <td>1.0</td>\n",
       "      <td>0</td>\n",
       "      <td>0</td>\n",
       "      <td>5</td>\n",
       "      <td>7</td>\n",
       "      <td>1050</td>\n",
       "      <td>910</td>\n",
       "      <td>1965</td>\n",
       "      <td>0</td>\n",
       "      <td>98136</td>\n",
       "      <td>47.5208</td>\n",
       "      <td>-122.393</td>\n",
       "      <td>1360</td>\n",
       "      <td>5000</td>\n",
       "      <td>2014</td>\n",
       "      <td>12</td>\n",
       "      <td>50</td>\n",
       "      <td>9</td>\n",
       "      <td>1</td>\n",
       "      <td>343</td>\n",
       "      <td>False</td>\n",
       "      <td>False</td>\n",
       "      <td>False</td>\n",
       "      <td>False</td>\n",
       "      <td>False</td>\n",
       "      <td>False</td>\n",
       "      <td>1418083200</td>\n",
       "    </tr>\n",
       "    <tr>\n",
       "      <th>4</th>\n",
       "      <td>1954400510</td>\n",
       "      <td>510000.0</td>\n",
       "      <td>3</td>\n",
       "      <td>2.00</td>\n",
       "      <td>1680</td>\n",
       "      <td>8080</td>\n",
       "      <td>1.0</td>\n",
       "      <td>0</td>\n",
       "      <td>0</td>\n",
       "      <td>3</td>\n",
       "      <td>8</td>\n",
       "      <td>1680</td>\n",
       "      <td>0</td>\n",
       "      <td>1987</td>\n",
       "      <td>0</td>\n",
       "      <td>98074</td>\n",
       "      <td>47.6168</td>\n",
       "      <td>-122.045</td>\n",
       "      <td>1800</td>\n",
       "      <td>7503</td>\n",
       "      <td>2015</td>\n",
       "      <td>2</td>\n",
       "      <td>8</td>\n",
       "      <td>18</td>\n",
       "      <td>2</td>\n",
       "      <td>49</td>\n",
       "      <td>False</td>\n",
       "      <td>False</td>\n",
       "      <td>False</td>\n",
       "      <td>False</td>\n",
       "      <td>False</td>\n",
       "      <td>False</td>\n",
       "      <td>1424217600</td>\n",
       "    </tr>\n",
       "  </tbody>\n",
       "</table>\n",
       "</div>"
      ],
      "text/plain": [
       "           id     price  bedrooms  bathrooms  sqft_living  sqft_lot  floors  \\\n",
       "0  7129300520  221900.0         3       1.00         1180      5650     1.0   \n",
       "1  6414100192  538000.0         3       2.25         2570      7242     2.0   \n",
       "2  5631500400  180000.0         2       1.00          770     10000     1.0   \n",
       "3  2487200875  604000.0         4       3.00         1960      5000     1.0   \n",
       "4  1954400510  510000.0         3       2.00         1680      8080     1.0   \n",
       "\n",
       "   waterfront  view  condition  grade  sqft_above  sqft_basement  yr_built  \\\n",
       "0           0     0          3      7        1180              0      1955   \n",
       "1           0     0          3      7        2170            400      1951   \n",
       "2           0     0          3      6         770              0      1933   \n",
       "3           0     0          5      7        1050            910      1965   \n",
       "4           0     0          3      8        1680              0      1987   \n",
       "\n",
       "   yr_renovated  zipcode      lat     long  sqft_living15  sqft_lot15  \\\n",
       "0             0    98178  47.5112 -122.257           1340        5650   \n",
       "1          1991    98125  47.7210 -122.319           1690        7639   \n",
       "2             0    98028  47.7379 -122.233           2720        8062   \n",
       "3             0    98136  47.5208 -122.393           1360        5000   \n",
       "4             0    98074  47.6168 -122.045           1800        7503   \n",
       "\n",
       "   date_Year  date_Month  date_Week  date_Day  date_Dayofweek  date_Dayofyear  \\\n",
       "0       2014          10         42        13               0             286   \n",
       "1       2014          12         50         9               1             343   \n",
       "2       2015           2          9        25               2              56   \n",
       "3       2014          12         50         9               1             343   \n",
       "4       2015           2          8        18               2              49   \n",
       "\n",
       "   date_Is_month_end  date_Is_month_start  date_Is_quarter_end  \\\n",
       "0              False                False                False   \n",
       "1              False                False                False   \n",
       "2              False                False                False   \n",
       "3              False                False                False   \n",
       "4              False                False                False   \n",
       "\n",
       "   date_Is_quarter_start  date_Is_year_end  date_Is_year_start  date_elapsed  \n",
       "0                  False             False               False    1413158400  \n",
       "1                  False             False               False    1418083200  \n",
       "2                  False             False               False    1424822400  \n",
       "3                  False             False               False    1418083200  \n",
       "4                  False             False               False    1424217600  "
      ]
     },
     "execution_count": 20,
     "metadata": {},
     "output_type": "execute_result"
    }
   ],
   "source": [
    "# 1. Algunos parámetros útiles que se pueden extraer de fechas\n",
    "date_attr = ['Year', 'Month', 'Week', 'Day', 'Dayofweek', 'Dayofyear', 'Is_month_end',\n",
    "             'Is_month_start', 'Is_quarter_end', 'Is_quarter_start', 'Is_year_end', 'Is_year_start']\n",
    "\n",
    "for n in date_attr:\n",
    "    df_raw['date_' + n] = getattr(df_raw['date'].dt, n.lower())\n",
    "\n",
    "# 2. Una representación numérica de la fecha\n",
    "df_raw['date_elapsed'] = df_raw['date'].astype(np.int64) // 10 ** 9\n",
    "\n",
    "\n",
    "# 3. Eliminamos la variable date\n",
    "df_raw.drop('date', axis=1, inplace=True)\n",
    "\n",
    "df_raw.head()"
   ]
  },
  {
   "cell_type": "code",
   "execution_count": 21,
   "metadata": {},
   "outputs": [
    {
     "data": {
      "image/png": "[encoded data removed]",
      "text/plain": [
       "<Figure size 864x216 with 1 Axes>"
      ]
     },
     "metadata": {},
     "output_type": "display_data"
    }
   ],
   "source": [
    "plt.figure(figsize=(12,3))\n",
    "sns.distplot(df_raw.price);"
   ]
  },
  {
   "cell_type": "code",
   "execution_count": 22,
   "metadata": {},
   "outputs": [
    {
     "data": {
      "image/png": "[encoded data removed]",
      "text/plain": [
       "<Figure size 864x216 with 1 Axes>"
      ]
     },
     "metadata": {},
     "output_type": "display_data"
    }
   ],
   "source": [
    "plt.figure(figsize=(12,3))\n",
    "sns.distplot(np.log(df_raw.price));"
   ]
  },
  {
   "cell_type": "markdown",
   "metadata": {},
   "source": [
    "Es importante tener en cuenta lo que estamos evaluando, en el caso de precios es bastante común tener mayor interes en el ratio del error que en el valor del error.\n",
    "\n",
    "* La predicción fallo en S/.10 vs la predicción fallo en 10%.\n",
    "* Un error de S/.100 en un precio de S/.1,000,000 vs un error de S/.100 en un precio de S/.1000.\n",
    "\n",
    "Por eso vamos a considerar el log del precio."
   ]
  },
  {
   "cell_type": "code",
   "execution_count": 23,
   "metadata": {},
   "outputs": [
    {
     "data": {
      "text/html": [
       "<div>\n",
       "<style scoped>\n",
       "    .dataframe tbody tr th:only-of-type {\n",
       "        vertical-align: middle;\n",
       "    }\n",
       "\n",
       "    .dataframe tbody tr th {\n",
       "        vertical-align: top;\n",
       "    }\n",
       "\n",
       "    .dataframe thead th {\n",
       "        text-align: right;\n",
       "    }\n",
       "</style>\n",
       "<table border=\"1\" class=\"dataframe\">\n",
       "  <thead>\n",
       "    <tr style=\"text-align: right;\">\n",
       "      <th></th>\n",
       "      <th>id</th>\n",
       "      <th>price</th>\n",
       "      <th>bedrooms</th>\n",
       "      <th>bathrooms</th>\n",
       "      <th>sqft_living</th>\n",
       "      <th>sqft_lot</th>\n",
       "      <th>floors</th>\n",
       "      <th>waterfront</th>\n",
       "      <th>view</th>\n",
       "      <th>condition</th>\n",
       "      <th>grade</th>\n",
       "      <th>sqft_above</th>\n",
       "      <th>sqft_basement</th>\n",
       "      <th>yr_built</th>\n",
       "      <th>yr_renovated</th>\n",
       "      <th>zipcode</th>\n",
       "      <th>lat</th>\n",
       "      <th>long</th>\n",
       "      <th>sqft_living15</th>\n",
       "      <th>sqft_lot15</th>\n",
       "      <th>date_Year</th>\n",
       "      <th>date_Month</th>\n",
       "      <th>date_Week</th>\n",
       "      <th>date_Day</th>\n",
       "      <th>date_Dayofweek</th>\n",
       "      <th>date_Dayofyear</th>\n",
       "      <th>date_Is_month_end</th>\n",
       "      <th>date_Is_month_start</th>\n",
       "      <th>date_Is_quarter_end</th>\n",
       "      <th>date_Is_quarter_start</th>\n",
       "      <th>date_Is_year_end</th>\n",
       "      <th>date_Is_year_start</th>\n",
       "      <th>date_elapsed</th>\n",
       "    </tr>\n",
       "  </thead>\n",
       "  <tbody>\n",
       "    <tr>\n",
       "      <th>0</th>\n",
       "      <td>7129300520</td>\n",
       "      <td>12.309982</td>\n",
       "      <td>3</td>\n",
       "      <td>1.00</td>\n",
       "      <td>1180</td>\n",
       "      <td>5650</td>\n",
       "      <td>1.0</td>\n",
       "      <td>0</td>\n",
       "      <td>0</td>\n",
       "      <td>3</td>\n",
       "      <td>7</td>\n",
       "      <td>1180</td>\n",
       "      <td>0</td>\n",
       "      <td>1955</td>\n",
       "      <td>0</td>\n",
       "      <td>98178</td>\n",
       "      <td>47.5112</td>\n",
       "      <td>-122.257</td>\n",
       "      <td>1340</td>\n",
       "      <td>5650</td>\n",
       "      <td>2014</td>\n",
       "      <td>10</td>\n",
       "      <td>42</td>\n",
       "      <td>13</td>\n",
       "      <td>0</td>\n",
       "      <td>286</td>\n",
       "      <td>False</td>\n",
       "      <td>False</td>\n",
       "      <td>False</td>\n",
       "      <td>False</td>\n",
       "      <td>False</td>\n",
       "      <td>False</td>\n",
       "      <td>1413158400</td>\n",
       "    </tr>\n",
       "    <tr>\n",
       "      <th>1</th>\n",
       "      <td>6414100192</td>\n",
       "      <td>13.195614</td>\n",
       "      <td>3</td>\n",
       "      <td>2.25</td>\n",
       "      <td>2570</td>\n",
       "      <td>7242</td>\n",
       "      <td>2.0</td>\n",
       "      <td>0</td>\n",
       "      <td>0</td>\n",
       "      <td>3</td>\n",
       "      <td>7</td>\n",
       "      <td>2170</td>\n",
       "      <td>400</td>\n",
       "      <td>1951</td>\n",
       "      <td>1991</td>\n",
       "      <td>98125</td>\n",
       "      <td>47.7210</td>\n",
       "      <td>-122.319</td>\n",
       "      <td>1690</td>\n",
       "      <td>7639</td>\n",
       "      <td>2014</td>\n",
       "      <td>12</td>\n",
       "      <td>50</td>\n",
       "      <td>9</td>\n",
       "      <td>1</td>\n",
       "      <td>343</td>\n",
       "      <td>False</td>\n",
       "      <td>False</td>\n",
       "      <td>False</td>\n",
       "      <td>False</td>\n",
       "      <td>False</td>\n",
       "      <td>False</td>\n",
       "      <td>1418083200</td>\n",
       "    </tr>\n",
       "    <tr>\n",
       "      <th>2</th>\n",
       "      <td>5631500400</td>\n",
       "      <td>12.100712</td>\n",
       "      <td>2</td>\n",
       "      <td>1.00</td>\n",
       "      <td>770</td>\n",
       "      <td>10000</td>\n",
       "      <td>1.0</td>\n",
       "      <td>0</td>\n",
       "      <td>0</td>\n",
       "      <td>3</td>\n",
       "      <td>6</td>\n",
       "      <td>770</td>\n",
       "      <td>0</td>\n",
       "      <td>1933</td>\n",
       "      <td>0</td>\n",
       "      <td>98028</td>\n",
       "      <td>47.7379</td>\n",
       "      <td>-122.233</td>\n",
       "      <td>2720</td>\n",
       "      <td>8062</td>\n",
       "      <td>2015</td>\n",
       "      <td>2</td>\n",
       "      <td>9</td>\n",
       "      <td>25</td>\n",
       "      <td>2</td>\n",
       "      <td>56</td>\n",
       "      <td>False</td>\n",
       "      <td>False</td>\n",
       "      <td>False</td>\n",
       "      <td>False</td>\n",
       "      <td>False</td>\n",
       "      <td>False</td>\n",
       "      <td>1424822400</td>\n",
       "    </tr>\n",
       "    <tr>\n",
       "      <th>3</th>\n",
       "      <td>2487200875</td>\n",
       "      <td>13.311329</td>\n",
       "      <td>4</td>\n",
       "      <td>3.00</td>\n",
       "      <td>1960</td>\n",
       "      <td>5000</td>\n",
       "      <td>1.0</td>\n",
       "      <td>0</td>\n",
       "      <td>0</td>\n",
       "      <td>5</td>\n",
       "      <td>7</td>\n",
       "      <td>1050</td>\n",
       "      <td>910</td>\n",
       "      <td>1965</td>\n",
       "      <td>0</td>\n",
       "      <td>98136</td>\n",
       "      <td>47.5208</td>\n",
       "      <td>-122.393</td>\n",
       "      <td>1360</td>\n",
       "      <td>5000</td>\n",
       "      <td>2014</td>\n",
       "      <td>12</td>\n",
       "      <td>50</td>\n",
       "      <td>9</td>\n",
       "      <td>1</td>\n",
       "      <td>343</td>\n",
       "      <td>False</td>\n",
       "      <td>False</td>\n",
       "      <td>False</td>\n",
       "      <td>False</td>\n",
       "      <td>False</td>\n",
       "      <td>False</td>\n",
       "      <td>1418083200</td>\n",
       "    </tr>\n",
       "    <tr>\n",
       "      <th>4</th>\n",
       "      <td>1954400510</td>\n",
       "      <td>13.142166</td>\n",
       "      <td>3</td>\n",
       "      <td>2.00</td>\n",
       "      <td>1680</td>\n",
       "      <td>8080</td>\n",
       "      <td>1.0</td>\n",
       "      <td>0</td>\n",
       "      <td>0</td>\n",
       "      <td>3</td>\n",
       "      <td>8</td>\n",
       "      <td>1680</td>\n",
       "      <td>0</td>\n",
       "      <td>1987</td>\n",
       "      <td>0</td>\n",
       "      <td>98074</td>\n",
       "      <td>47.6168</td>\n",
       "      <td>-122.045</td>\n",
       "      <td>1800</td>\n",
       "      <td>7503</td>\n",
       "      <td>2015</td>\n",
       "      <td>2</td>\n",
       "      <td>8</td>\n",
       "      <td>18</td>\n",
       "      <td>2</td>\n",
       "      <td>49</td>\n",
       "      <td>False</td>\n",
       "      <td>False</td>\n",
       "      <td>False</td>\n",
       "      <td>False</td>\n",
       "      <td>False</td>\n",
       "      <td>False</td>\n",
       "      <td>1424217600</td>\n",
       "    </tr>\n",
       "  </tbody>\n",
       "</table>\n",
       "</div>"
      ],
      "text/plain": [
       "           id      price  bedrooms  bathrooms  sqft_living  sqft_lot  floors  \\\n",
       "0  7129300520  12.309982         3       1.00         1180      5650     1.0   \n",
       "1  6414100192  13.195614         3       2.25         2570      7242     2.0   \n",
       "2  5631500400  12.100712         2       1.00          770     10000     1.0   \n",
       "3  2487200875  13.311329         4       3.00         1960      5000     1.0   \n",
       "4  1954400510  13.142166         3       2.00         1680      8080     1.0   \n",
       "\n",
       "   waterfront  view  condition  grade  sqft_above  sqft_basement  yr_built  \\\n",
       "0           0     0          3      7        1180              0      1955   \n",
       "1           0     0          3      7        2170            400      1951   \n",
       "2           0     0          3      6         770              0      1933   \n",
       "3           0     0          5      7        1050            910      1965   \n",
       "4           0     0          3      8        1680              0      1987   \n",
       "\n",
       "   yr_renovated  zipcode      lat     long  sqft_living15  sqft_lot15  \\\n",
       "0             0    98178  47.5112 -122.257           1340        5650   \n",
       "1          1991    98125  47.7210 -122.319           1690        7639   \n",
       "2             0    98028  47.7379 -122.233           2720        8062   \n",
       "3             0    98136  47.5208 -122.393           1360        5000   \n",
       "4             0    98074  47.6168 -122.045           1800        7503   \n",
       "\n",
       "   date_Year  date_Month  date_Week  date_Day  date_Dayofweek  date_Dayofyear  \\\n",
       "0       2014          10         42        13               0             286   \n",
       "1       2014          12         50         9               1             343   \n",
       "2       2015           2          9        25               2              56   \n",
       "3       2014          12         50         9               1             343   \n",
       "4       2015           2          8        18               2              49   \n",
       "\n",
       "   date_Is_month_end  date_Is_month_start  date_Is_quarter_end  \\\n",
       "0              False                False                False   \n",
       "1              False                False                False   \n",
       "2              False                False                False   \n",
       "3              False                False                False   \n",
       "4              False                False                False   \n",
       "\n",
       "   date_Is_quarter_start  date_Is_year_end  date_Is_year_start  date_elapsed  \n",
       "0                  False             False               False    1413158400  \n",
       "1                  False             False               False    1418083200  \n",
       "2                  False             False               False    1424822400  \n",
       "3                  False             False               False    1418083200  \n",
       "4                  False             False               False    1424217600  "
      ]
     },
     "execution_count": 23,
     "metadata": {},
     "output_type": "execute_result"
    }
   ],
   "source": [
    "df_raw.price = np.log(df_raw.price)\n",
    "df_raw.head()"
   ]
  },
  {
   "cell_type": "markdown",
   "metadata": {},
   "source": [
    "### Train-validation split"
   ]
  },
  {
   "cell_type": "code",
   "execution_count": 24,
   "metadata": {},
   "outputs": [
    {
     "name": "stdout",
     "output_type": "stream",
     "text": [
      "Train shape     : (17290, 32)\n",
      "Validation shape: (4323, 32)\n"
     ]
    }
   ],
   "source": [
    "x = df_raw.drop('price', axis=1)\n",
    "y = df_raw['price']\n",
    "\n",
    "x_train, x_val, y_train, y_val = train_test_split(x, y, test_size=0.2, random_state=42)\n",
    "print(f'Train shape     : {x_train.shape}')\n",
    "print(f'Validation shape: {x_val.shape}')"
   ]
  },
  {
   "cell_type": "markdown",
   "metadata": {},
   "source": [
    "## Entrenar un árbol de regresión"
   ]
  },
  {
   "cell_type": "code",
   "execution_count": 25,
   "metadata": {},
   "outputs": [
    {
     "data": {
      "text/plain": [
       "DecisionTreeRegressor(criterion='mse', max_depth=2, max_features=None,\n",
       "           max_leaf_nodes=None, min_impurity_decrease=0.0,\n",
       "           min_impurity_split=None, min_samples_leaf=1,\n",
       "           min_samples_split=2, min_weight_fraction_leaf=0.0,\n",
       "           presort=False, random_state=None, splitter='best')"
      ]
     },
     "execution_count": 25,
     "metadata": {},
     "output_type": "execute_result"
    }
   ],
   "source": [
    "from sklearn.tree import DecisionTreeRegressor\n",
    "\n",
    "m = DecisionTreeRegressor(max_depth=2)\n",
    "m.fit(x_train, y_train)"
   ]
  },
  {
   "cell_type": "code",
   "execution_count": 26,
   "metadata": {},
   "outputs": [
    {
     "name": "stdout",
     "output_type": "stream",
     "text": [
      "Train score      = 0.5539\n",
      "Validation score = 0.5383\n"
     ]
    }
   ],
   "source": [
    "# m.score retorna el coeficiente de determinación de la predicción\n",
    "score()"
   ]
  },
  {
   "cell_type": "code",
   "execution_count": 27,
   "metadata": {},
   "outputs": [
    {
     "data": {
      "text/plain": [
       "0.1315939214603435"
      ]
     },
     "execution_count": 27,
     "metadata": {},
     "output_type": "execute_result"
    }
   ],
   "source": [
    "# veamos el mse\n",
    "from sklearn.metrics import mean_squared_error\n",
    "mean_squared_error(y_val, m.predict(x_val))"
   ]
  },
  {
   "cell_type": "code",
   "execution_count": 28,
   "metadata": {},
   "outputs": [
    {
     "data": {
      "image/svg+xml": [
       "<?xml version=\"1.0\" encoding=\"UTF-8\" standalone=\"no\"?>\n",
       "<!DOCTYPE svg PUBLIC \"-//W3C//DTD SVG 1.1//EN\"\n",
       " \"http://www.w3.org/Graphics/SVG/1.1/DTD/svg11.dtd\">\n",
       "<!-- Generated by graphviz version 2.38.0 (20140413.2041)\n",
       " -->\n",
       "<!-- Title: Tree Pages: 1 -->\n",
       "<svg width=\"484pt\" height=\"269pt\"\n",
       " viewBox=\"0.00 0.00 483.50 269.00\" xmlns=\"http://www.w3.org/2000/svg\" xmlns:xlink=\"http://www.w3.org/1999/xlink\">\n",
       "<g id=\"graph0\" class=\"graph\" transform=\"scale(1 1) rotate(0) translate(4 265)\">\n",
       "<title>Tree</title>\n",
       "<polygon fill=\"white\" stroke=\"none\" points=\"-4,4 -4,-265 479.5,-265 479.5,4 -4,4\"/>\n",
       "<!-- 0 -->\n",
       "<g id=\"node1\" class=\"node\"><title>0</title>\n",
       "<polygon fill=\"#e58139\" fill-opacity=\"0.301961\" stroke=\"black\" points=\"295,-261 185,-261 185,-193 295,-193 295,-261\"/>\n",
       "<text text-anchor=\"middle\" x=\"240\" y=\"-245.8\" font-family=\"Times,serif\" font-size=\"14.00\">grade &lt;= 8.5</text>\n",
       "<text text-anchor=\"middle\" x=\"240\" y=\"-230.8\" font-family=\"Times,serif\" font-size=\"14.00\">mse = 0.275</text>\n",
       "<text text-anchor=\"middle\" x=\"240\" y=\"-215.8\" font-family=\"Times,serif\" font-size=\"14.00\">samples = 17290</text>\n",
       "<text text-anchor=\"middle\" x=\"240\" y=\"-200.8\" font-family=\"Times,serif\" font-size=\"14.00\">value = 13.045</text>\n",
       "</g>\n",
       "<!-- 1 -->\n",
       "<g id=\"node2\" class=\"node\"><title>1</title>\n",
       "<polygon fill=\"#e58139\" fill-opacity=\"0.203922\" stroke=\"black\" points=\"224,-157 114,-157 114,-89 224,-89 224,-157\"/>\n",
       "<text text-anchor=\"middle\" x=\"169\" y=\"-141.8\" font-family=\"Times,serif\" font-size=\"14.00\">lat &lt;= 47.534</text>\n",
       "<text text-anchor=\"middle\" x=\"169\" y=\"-126.8\" font-family=\"Times,serif\" font-size=\"14.00\">mse = 0.18</text>\n",
       "<text text-anchor=\"middle\" x=\"169\" y=\"-111.8\" font-family=\"Times,serif\" font-size=\"14.00\">samples = 13918</text>\n",
       "<text text-anchor=\"middle\" x=\"169\" y=\"-96.8\" font-family=\"Times,serif\" font-size=\"14.00\">value = 12.897</text>\n",
       "</g>\n",
       "<!-- 0&#45;&gt;1 -->\n",
       "<g id=\"edge1\" class=\"edge\"><title>0&#45;&gt;1</title>\n",
       "<path fill=\"none\" stroke=\"black\" d=\"M216.948,-192.884C210.872,-184.154 204.239,-174.625 197.897,-165.514\"/>\n",
       "<polygon fill=\"black\" stroke=\"black\" points=\"200.765,-163.507 192.179,-157.299 195.019,-167.506 200.765,-163.507\"/>\n",
       "<text text-anchor=\"middle\" x=\"187.769\" y=\"-178.207\" font-family=\"Times,serif\" font-size=\"14.00\">True</text>\n",
       "</g>\n",
       "<!-- 4 -->\n",
       "<g id=\"node5\" class=\"node\"><title>4</title>\n",
       "<polygon fill=\"#e58139\" fill-opacity=\"0.717647\" stroke=\"black\" points=\"379.5,-157 242.5,-157 242.5,-89 379.5,-89 379.5,-157\"/>\n",
       "<text text-anchor=\"middle\" x=\"311\" y=\"-141.8\" font-family=\"Times,serif\" font-size=\"14.00\">sqft_living &lt;= 3765.0</text>\n",
       "<text text-anchor=\"middle\" x=\"311\" y=\"-126.8\" font-family=\"Times,serif\" font-size=\"14.00\">mse = 0.205</text>\n",
       "<text text-anchor=\"middle\" x=\"311\" y=\"-111.8\" font-family=\"Times,serif\" font-size=\"14.00\">samples = 3372</text>\n",
       "<text text-anchor=\"middle\" x=\"311\" y=\"-96.8\" font-family=\"Times,serif\" font-size=\"14.00\">value = 13.657</text>\n",
       "</g>\n",
       "<!-- 0&#45;&gt;4 -->\n",
       "<g id=\"edge4\" class=\"edge\"><title>0&#45;&gt;4</title>\n",
       "<path fill=\"none\" stroke=\"black\" d=\"M263.052,-192.884C269.128,-184.154 275.761,-174.625 282.103,-165.514\"/>\n",
       "<polygon fill=\"black\" stroke=\"black\" points=\"284.981,-167.506 287.821,-157.299 279.235,-163.507 284.981,-167.506\"/>\n",
       "<text text-anchor=\"middle\" x=\"292.231\" y=\"-178.207\" font-family=\"Times,serif\" font-size=\"14.00\">False</text>\n",
       "</g>\n",
       "<!-- 2 -->\n",
       "<g id=\"node3\" class=\"node\"><title>2</title>\n",
       "<polygon fill=\"none\" stroke=\"black\" points=\"104,-53 0,-53 0,-0 104,-0 104,-53\"/>\n",
       "<text text-anchor=\"middle\" x=\"52\" y=\"-37.8\" font-family=\"Times,serif\" font-size=\"14.00\">mse = 0.116</text>\n",
       "<text text-anchor=\"middle\" x=\"52\" y=\"-22.8\" font-family=\"Times,serif\" font-size=\"14.00\">samples = 5843</text>\n",
       "<text text-anchor=\"middle\" x=\"52\" y=\"-7.8\" font-family=\"Times,serif\" font-size=\"14.00\">value = 12.598</text>\n",
       "</g>\n",
       "<!-- 1&#45;&gt;2 -->\n",
       "<g id=\"edge2\" class=\"edge\"><title>1&#45;&gt;2</title>\n",
       "<path fill=\"none\" stroke=\"black\" d=\"M128.079,-88.9485C116.3,-79.4346 103.473,-69.074 91.7646,-59.6175\"/>\n",
       "<polygon fill=\"black\" stroke=\"black\" points=\"93.8431,-56.7973 83.8645,-53.2367 89.4447,-62.2429 93.8431,-56.7973\"/>\n",
       "</g>\n",
       "<!-- 3 -->\n",
       "<g id=\"node4\" class=\"node\"><title>3</title>\n",
       "<polygon fill=\"#e58139\" fill-opacity=\"0.349020\" stroke=\"black\" points=\"226,-53 122,-53 122,-0 226,-0 226,-53\"/>\n",
       "<text text-anchor=\"middle\" x=\"174\" y=\"-37.8\" font-family=\"Times,serif\" font-size=\"14.00\">mse = 0.115</text>\n",
       "<text text-anchor=\"middle\" x=\"174\" y=\"-22.8\" font-family=\"Times,serif\" font-size=\"14.00\">samples = 8075</text>\n",
       "<text text-anchor=\"middle\" x=\"174\" y=\"-7.8\" font-family=\"Times,serif\" font-size=\"14.00\">value = 13.113</text>\n",
       "</g>\n",
       "<!-- 1&#45;&gt;3 -->\n",
       "<g id=\"edge3\" class=\"edge\"><title>1&#45;&gt;3</title>\n",
       "<path fill=\"none\" stroke=\"black\" d=\"M170.749,-88.9485C171.184,-80.7153 171.654,-71.848 172.096,-63.4814\"/>\n",
       "<polygon fill=\"black\" stroke=\"black\" points=\"175.605,-63.4077 172.638,-53.2367 168.615,-63.0378 175.605,-63.4077\"/>\n",
       "</g>\n",
       "<!-- 5 -->\n",
       "<g id=\"node6\" class=\"node\"><title>5</title>\n",
       "<polygon fill=\"#e58139\" fill-opacity=\"0.635294\" stroke=\"black\" points=\"358,-53 254,-53 254,-0 358,-0 358,-53\"/>\n",
       "<text text-anchor=\"middle\" x=\"306\" y=\"-37.8\" font-family=\"Times,serif\" font-size=\"14.00\">mse = 0.138</text>\n",
       "<text text-anchor=\"middle\" x=\"306\" y=\"-22.8\" font-family=\"Times,serif\" font-size=\"14.00\">samples = 2600</text>\n",
       "<text text-anchor=\"middle\" x=\"306\" y=\"-7.8\" font-family=\"Times,serif\" font-size=\"14.00\">value = 13.534</text>\n",
       "</g>\n",
       "<!-- 4&#45;&gt;5 -->\n",
       "<g id=\"edge5\" class=\"edge\"><title>4&#45;&gt;5</title>\n",
       "<path fill=\"none\" stroke=\"black\" d=\"M309.251,-88.9485C308.816,-80.7153 308.346,-71.848 307.904,-63.4814\"/>\n",
       "<polygon fill=\"black\" stroke=\"black\" points=\"311.385,-63.0378 307.362,-53.2367 304.395,-63.4077 311.385,-63.0378\"/>\n",
       "</g>\n",
       "<!-- 6 -->\n",
       "<g id=\"node7\" class=\"node\"><title>6</title>\n",
       "<polygon fill=\"#e58139\" stroke=\"black\" points=\"475.5,-53 376.5,-53 376.5,-0 475.5,-0 475.5,-53\"/>\n",
       "<text text-anchor=\"middle\" x=\"426\" y=\"-37.8\" font-family=\"Times,serif\" font-size=\"14.00\">mse = 0.207</text>\n",
       "<text text-anchor=\"middle\" x=\"426\" y=\"-22.8\" font-family=\"Times,serif\" font-size=\"14.00\">samples = 772</text>\n",
       "<text text-anchor=\"middle\" x=\"426\" y=\"-7.8\" font-family=\"Times,serif\" font-size=\"14.00\">value = 14.071</text>\n",
       "</g>\n",
       "<!-- 4&#45;&gt;6 -->\n",
       "<g id=\"edge6\" class=\"edge\"><title>4&#45;&gt;6</title>\n",
       "<path fill=\"none\" stroke=\"black\" d=\"M351.221,-88.9485C362.799,-79.4346 375.407,-69.074 386.915,-59.6175\"/>\n",
       "<polygon fill=\"black\" stroke=\"black\" points=\"389.176,-62.2897 394.68,-53.2367 384.732,-56.8814 389.176,-62.2897\"/>\n",
       "</g>\n",
       "</g>\n",
       "</svg>\n"
      ],
      "text/plain": [
       "<graphviz.files.Source at 0x7f455b6e3d30>"
      ]
     },
     "execution_count": 28,
     "metadata": {},
     "output_type": "execute_result"
    }
   ],
   "source": [
    "utils.draw_tree(m, x_train)"
   ]
  },
  {
   "cell_type": "markdown",
   "metadata": {},
   "source": [
    "## Calculando los valores del árbol"
   ]
  },
  {
   "cell_type": "code",
   "execution_count": 29,
   "metadata": {},
   "outputs": [
    {
     "data": {
      "text/plain": [
       "13.045165229875252"
      ]
     },
     "execution_count": 29,
     "metadata": {},
     "output_type": "execute_result"
    }
   ],
   "source": [
    "y_train.mean()"
   ]
  },
  {
   "cell_type": "code",
   "execution_count": 30,
   "metadata": {},
   "outputs": [
    {
     "data": {
      "text/plain": [
       "0.27543630032941563"
      ]
     },
     "execution_count": 30,
     "metadata": {},
     "output_type": "execute_result"
    }
   ],
   "source": [
    "((y_train - y_train.mean())**2).mean()"
   ]
  },
  {
   "cell_type": "code",
   "execution_count": 31,
   "metadata": {},
   "outputs": [
    {
     "data": {
      "text/plain": [
       "12.896989327477723"
      ]
     },
     "execution_count": 31,
     "metadata": {},
     "output_type": "execute_result"
    }
   ],
   "source": [
    "y_train[x_train['grade'] <= 8.5].mean()"
   ]
  },
  {
   "cell_type": "code",
   "execution_count": 32,
   "metadata": {},
   "outputs": [
    {
     "data": {
      "text/plain": [
       "0.17996169928110842"
      ]
     },
     "execution_count": 32,
     "metadata": {},
     "output_type": "execute_result"
    }
   ],
   "source": [
    "((y_train[x_train['grade'] <= 8.5] - y_train[x_train['grade'] <= 8.5].mean())**2).mean()"
   ]
  },
  {
   "cell_type": "code",
   "execution_count": 33,
   "metadata": {},
   "outputs": [
    {
     "data": {
      "text/plain": [
       "13.656764343033267"
      ]
     },
     "execution_count": 33,
     "metadata": {},
     "output_type": "execute_result"
    }
   ],
   "source": [
    "y_train[x_train['grade'] > 8.5].mean()"
   ]
  },
  {
   "cell_type": "code",
   "execution_count": 34,
   "metadata": {},
   "outputs": [
    {
     "data": {
      "text/plain": [
       "0.2048319724186241"
      ]
     },
     "execution_count": 34,
     "metadata": {},
     "output_type": "execute_result"
    }
   ],
   "source": [
    "((y_train[x_train['grade'] > 8.5] - y_train[x_train['grade'] > 8.5].mean())**2).mean()"
   ]
  },
  {
   "cell_type": "markdown",
   "metadata": {},
   "source": [
    "## Usando un random forest"
   ]
  },
  {
   "cell_type": "code",
   "execution_count": 35,
   "metadata": {},
   "outputs": [
    {
     "data": {
      "text/plain": [
       "RandomForestRegressor(bootstrap=True, criterion='mse', max_depth=None,\n",
       "           max_features='auto', max_leaf_nodes=None,\n",
       "           min_impurity_decrease=0.0, min_impurity_split=None,\n",
       "           min_samples_leaf=1, min_samples_split=2,\n",
       "           min_weight_fraction_leaf=0.0, n_estimators=40, n_jobs=-1,\n",
       "           oob_score=True, random_state=None, verbose=0, warm_start=False)"
      ]
     },
     "execution_count": 35,
     "metadata": {},
     "output_type": "execute_result"
    }
   ],
   "source": [
    "from sklearn.ensemble import RandomForestRegressor\n",
    "m = RandomForestRegressor(40, n_jobs=-1, oob_score=True)\n",
    "m.fit(x_train, y_train)"
   ]
  },
  {
   "cell_type": "code",
   "execution_count": 36,
   "metadata": {},
   "outputs": [
    {
     "name": "stdout",
     "output_type": "stream",
     "text": [
      "Train score      = 0.9833\n",
      "Validation score = 0.8884\n",
      "OOB score        = 0.879\n"
     ]
    }
   ],
   "source": [
    "score()"
   ]
  },
  {
   "cell_type": "markdown",
   "metadata": {},
   "source": [
    "# Interpretación del modelo"
   ]
  },
  {
   "cell_type": "markdown",
   "metadata": {},
   "source": [
    "## Feature importance"
   ]
  },
  {
   "cell_type": "markdown",
   "metadata": {},
   "source": [
    "### Sklearn feature importance"
   ]
  },
  {
   "cell_type": "code",
   "execution_count": 37,
   "metadata": {},
   "outputs": [
    {
     "data": {
      "text/plain": [
       "array([6.60047396e-03, 2.19643508e-03, 4.13867497e-03, 1.72212717e-01,\n",
       "       1.31854483e-02, 1.16408386e-03, 5.63441164e-03, 7.88505520e-03,\n",
       "       4.24575996e-03, 3.46525640e-01, 1.23009252e-02, 2.52609313e-03,\n",
       "       1.92033991e-02, 9.81964024e-04, 9.22528987e-03, 2.88199391e-01,\n",
       "       4.21205764e-02, 2.37462265e-02, 1.23323932e-02, 2.16618634e-04,\n",
       "       1.33148682e-03, 2.99045128e-03, 5.37403673e-03, 2.62277869e-03,\n",
       "       4.22893437e-03, 1.30307921e-04, 1.01813757e-04, 6.43207281e-05,\n",
       "       7.85530988e-05, 6.17790171e-07, 0.00000000e+00, 8.43512150e-03])"
      ]
     },
     "execution_count": 37,
     "metadata": {},
     "output_type": "execute_result"
    }
   ],
   "source": [
    "m.feature_importances_"
   ]
  },
  {
   "cell_type": "code",
   "execution_count": 38,
   "metadata": {
    "scrolled": true
   },
   "outputs": [
    {
     "data": {
      "text/html": [
       "<style  type=\"text/css\" >\n",
       "    #T_4e3aceea_90b6_11e8_94f1_74d43500427crow0_col1 {\n",
       "            width:  10em;\n",
       "             height:  80%;\n",
       "            background:  linear-gradient(90deg,#d65f5f 100.0%, transparent 0%);\n",
       "        }    #T_4e3aceea_90b6_11e8_94f1_74d43500427crow1_col1 {\n",
       "            width:  10em;\n",
       "             height:  80%;\n",
       "            background:  linear-gradient(90deg,#d65f5f 83.2%, transparent 0%);\n",
       "        }    #T_4e3aceea_90b6_11e8_94f1_74d43500427crow2_col1 {\n",
       "            width:  10em;\n",
       "             height:  80%;\n",
       "            background:  linear-gradient(90deg,#d65f5f 49.7%, transparent 0%);\n",
       "        }    #T_4e3aceea_90b6_11e8_94f1_74d43500427crow3_col1 {\n",
       "            width:  10em;\n",
       "             height:  80%;\n",
       "            background:  linear-gradient(90deg,#d65f5f 12.2%, transparent 0%);\n",
       "        }    #T_4e3aceea_90b6_11e8_94f1_74d43500427crow4_col1 {\n",
       "            width:  10em;\n",
       "             height:  80%;\n",
       "            background:  linear-gradient(90deg,#d65f5f 6.9%, transparent 0%);\n",
       "        }    #T_4e3aceea_90b6_11e8_94f1_74d43500427crow5_col1 {\n",
       "            width:  10em;\n",
       "             height:  80%;\n",
       "            background:  linear-gradient(90deg,#d65f5f 5.5%, transparent 0%);\n",
       "        }    #T_4e3aceea_90b6_11e8_94f1_74d43500427crow6_col1 {\n",
       "            width:  10em;\n",
       "             height:  80%;\n",
       "            background:  linear-gradient(90deg,#d65f5f 3.8%, transparent 0%);\n",
       "        }    #T_4e3aceea_90b6_11e8_94f1_74d43500427crow7_col1 {\n",
       "            width:  10em;\n",
       "             height:  80%;\n",
       "            background:  linear-gradient(90deg,#d65f5f 3.6%, transparent 0%);\n",
       "        }    #T_4e3aceea_90b6_11e8_94f1_74d43500427crow8_col1 {\n",
       "            width:  10em;\n",
       "             height:  80%;\n",
       "            background:  linear-gradient(90deg,#d65f5f 3.5%, transparent 0%);\n",
       "        }    #T_4e3aceea_90b6_11e8_94f1_74d43500427crow9_col1 {\n",
       "            width:  10em;\n",
       "             height:  80%;\n",
       "            background:  linear-gradient(90deg,#d65f5f 2.7%, transparent 0%);\n",
       "        }    #T_4e3aceea_90b6_11e8_94f1_74d43500427crow10_col1 {\n",
       "            width:  10em;\n",
       "             height:  80%;\n",
       "            background:  linear-gradient(90deg,#d65f5f 2.4%, transparent 0%);\n",
       "        }    #T_4e3aceea_90b6_11e8_94f1_74d43500427crow11_col1 {\n",
       "            width:  10em;\n",
       "             height:  80%;\n",
       "            background:  linear-gradient(90deg,#d65f5f 2.3%, transparent 0%);\n",
       "        }    #T_4e3aceea_90b6_11e8_94f1_74d43500427crow12_col1 {\n",
       "            width:  10em;\n",
       "             height:  80%;\n",
       "            background:  linear-gradient(90deg,#d65f5f 1.9%, transparent 0%);\n",
       "        }    #T_4e3aceea_90b6_11e8_94f1_74d43500427crow13_col1 {\n",
       "            width:  10em;\n",
       "             height:  80%;\n",
       "            background:  linear-gradient(90deg,#d65f5f 1.6%, transparent 0%);\n",
       "        }    #T_4e3aceea_90b6_11e8_94f1_74d43500427crow14_col1 {\n",
       "            width:  10em;\n",
       "             height:  80%;\n",
       "            background:  linear-gradient(90deg,#d65f5f 1.6%, transparent 0%);\n",
       "        }    #T_4e3aceea_90b6_11e8_94f1_74d43500427crow15_col1 {\n",
       "            width:  10em;\n",
       "             height:  80%;\n",
       "            background:  linear-gradient(90deg,#d65f5f 1.2%, transparent 0%);\n",
       "        }    #T_4e3aceea_90b6_11e8_94f1_74d43500427crow16_col1 {\n",
       "            width:  10em;\n",
       "             height:  80%;\n",
       "            background:  linear-gradient(90deg,#d65f5f 1.2%, transparent 0%);\n",
       "        }    #T_4e3aceea_90b6_11e8_94f1_74d43500427crow17_col1 {\n",
       "            width:  10em;\n",
       "             height:  80%;\n",
       "            background:  linear-gradient(90deg,#d65f5f 1.2%, transparent 0%);\n",
       "        }    #T_4e3aceea_90b6_11e8_94f1_74d43500427crow18_col1 {\n",
       "            width:  10em;\n",
       "             height:  80%;\n",
       "            background:  linear-gradient(90deg,#d65f5f 0.9%, transparent 0%);\n",
       "        }    #T_4e3aceea_90b6_11e8_94f1_74d43500427crow19_col1 {\n",
       "            width:  10em;\n",
       "             height:  80%;\n",
       "            background:  linear-gradient(90deg,#d65f5f 0.8%, transparent 0%);\n",
       "        }    #T_4e3aceea_90b6_11e8_94f1_74d43500427crow20_col1 {\n",
       "            width:  10em;\n",
       "             height:  80%;\n",
       "            background:  linear-gradient(90deg,#d65f5f 0.7%, transparent 0%);\n",
       "        }    #T_4e3aceea_90b6_11e8_94f1_74d43500427crow21_col1 {\n",
       "            width:  10em;\n",
       "             height:  80%;\n",
       "            background:  linear-gradient(90deg,#d65f5f 0.6%, transparent 0%);\n",
       "        }    #T_4e3aceea_90b6_11e8_94f1_74d43500427crow22_col1 {\n",
       "            width:  10em;\n",
       "             height:  80%;\n",
       "            background:  linear-gradient(90deg,#d65f5f 0.4%, transparent 0%);\n",
       "        }    #T_4e3aceea_90b6_11e8_94f1_74d43500427crow23_col1 {\n",
       "            width:  10em;\n",
       "             height:  80%;\n",
       "            background:  linear-gradient(90deg,#d65f5f 0.3%, transparent 0%);\n",
       "        }    #T_4e3aceea_90b6_11e8_94f1_74d43500427crow24_col1 {\n",
       "            width:  10em;\n",
       "             height:  80%;\n",
       "            background:  linear-gradient(90deg,#d65f5f 0.3%, transparent 0%);\n",
       "        }    #T_4e3aceea_90b6_11e8_94f1_74d43500427crow25_col1 {\n",
       "            width:  10em;\n",
       "             height:  80%;\n",
       "            background:  linear-gradient(90deg,#d65f5f 0.1%, transparent 0%);\n",
       "        }    #T_4e3aceea_90b6_11e8_94f1_74d43500427crow26_col1 {\n",
       "            width:  10em;\n",
       "             height:  80%;\n",
       "            background:  linear-gradient(90deg,#d65f5f 0.0%, transparent 0%);\n",
       "        }    #T_4e3aceea_90b6_11e8_94f1_74d43500427crow27_col1 {\n",
       "            width:  10em;\n",
       "             height:  80%;\n",
       "            background:  linear-gradient(90deg,#d65f5f 0.0%, transparent 0%);\n",
       "        }    #T_4e3aceea_90b6_11e8_94f1_74d43500427crow28_col1 {\n",
       "            width:  10em;\n",
       "             height:  80%;\n",
       "            background:  linear-gradient(90deg,#d65f5f 0.0%, transparent 0%);\n",
       "        }    #T_4e3aceea_90b6_11e8_94f1_74d43500427crow29_col1 {\n",
       "            width:  10em;\n",
       "             height:  80%;\n",
       "            background:  linear-gradient(90deg,#d65f5f 0.0%, transparent 0%);\n",
       "        }    #T_4e3aceea_90b6_11e8_94f1_74d43500427crow30_col1 {\n",
       "            width:  10em;\n",
       "             height:  80%;\n",
       "            background:  linear-gradient(90deg,#d65f5f 0.0%, transparent 0%);\n",
       "        }    #T_4e3aceea_90b6_11e8_94f1_74d43500427crow31_col1 {\n",
       "            width:  10em;\n",
       "             height:  80%;\n",
       "        }</style>  \n",
       "<table id=\"T_4e3aceea_90b6_11e8_94f1_74d43500427c\" > \n",
       "<thead>    <tr> \n",
       "        <th class=\"blank level0\" ></th> \n",
       "        <th class=\"col_heading level0 col0\" >cols</th> \n",
       "        <th class=\"col_heading level0 col1\" >imp</th> \n",
       "    </tr></thead> \n",
       "<tbody>    <tr> \n",
       "        <th id=\"T_4e3aceea_90b6_11e8_94f1_74d43500427clevel0_row0\" class=\"row_heading level0 row0\" >9</th> \n",
       "        <td id=\"T_4e3aceea_90b6_11e8_94f1_74d43500427crow0_col0\" class=\"data row0 col0\" >grade</td> \n",
       "        <td id=\"T_4e3aceea_90b6_11e8_94f1_74d43500427crow0_col1\" class=\"data row0 col1\" >0.346526</td> \n",
       "    </tr>    <tr> \n",
       "        <th id=\"T_4e3aceea_90b6_11e8_94f1_74d43500427clevel0_row1\" class=\"row_heading level0 row1\" >15</th> \n",
       "        <td id=\"T_4e3aceea_90b6_11e8_94f1_74d43500427crow1_col0\" class=\"data row1 col0\" >lat</td> \n",
       "        <td id=\"T_4e3aceea_90b6_11e8_94f1_74d43500427crow1_col1\" class=\"data row1 col1\" >0.288199</td> \n",
       "    </tr>    <tr> \n",
       "        <th id=\"T_4e3aceea_90b6_11e8_94f1_74d43500427clevel0_row2\" class=\"row_heading level0 row2\" >3</th> \n",
       "        <td id=\"T_4e3aceea_90b6_11e8_94f1_74d43500427crow2_col0\" class=\"data row2 col0\" >sqft_living</td> \n",
       "        <td id=\"T_4e3aceea_90b6_11e8_94f1_74d43500427crow2_col1\" class=\"data row2 col1\" >0.172213</td> \n",
       "    </tr>    <tr> \n",
       "        <th id=\"T_4e3aceea_90b6_11e8_94f1_74d43500427clevel0_row3\" class=\"row_heading level0 row3\" >16</th> \n",
       "        <td id=\"T_4e3aceea_90b6_11e8_94f1_74d43500427crow3_col0\" class=\"data row3 col0\" >long</td> \n",
       "        <td id=\"T_4e3aceea_90b6_11e8_94f1_74d43500427crow3_col1\" class=\"data row3 col1\" >0.0421206</td> \n",
       "    </tr>    <tr> \n",
       "        <th id=\"T_4e3aceea_90b6_11e8_94f1_74d43500427clevel0_row4\" class=\"row_heading level0 row4\" >17</th> \n",
       "        <td id=\"T_4e3aceea_90b6_11e8_94f1_74d43500427crow4_col0\" class=\"data row4 col0\" >sqft_living15</td> \n",
       "        <td id=\"T_4e3aceea_90b6_11e8_94f1_74d43500427crow4_col1\" class=\"data row4 col1\" >0.0237462</td> \n",
       "    </tr>    <tr> \n",
       "        <th id=\"T_4e3aceea_90b6_11e8_94f1_74d43500427clevel0_row5\" class=\"row_heading level0 row5\" >12</th> \n",
       "        <td id=\"T_4e3aceea_90b6_11e8_94f1_74d43500427crow5_col0\" class=\"data row5 col0\" >yr_built</td> \n",
       "        <td id=\"T_4e3aceea_90b6_11e8_94f1_74d43500427crow5_col1\" class=\"data row5 col1\" >0.0192034</td> \n",
       "    </tr>    <tr> \n",
       "        <th id=\"T_4e3aceea_90b6_11e8_94f1_74d43500427clevel0_row6\" class=\"row_heading level0 row6\" >4</th> \n",
       "        <td id=\"T_4e3aceea_90b6_11e8_94f1_74d43500427crow6_col0\" class=\"data row6 col0\" >sqft_lot</td> \n",
       "        <td id=\"T_4e3aceea_90b6_11e8_94f1_74d43500427crow6_col1\" class=\"data row6 col1\" >0.0131854</td> \n",
       "    </tr>    <tr> \n",
       "        <th id=\"T_4e3aceea_90b6_11e8_94f1_74d43500427clevel0_row7\" class=\"row_heading level0 row7\" >18</th> \n",
       "        <td id=\"T_4e3aceea_90b6_11e8_94f1_74d43500427crow7_col0\" class=\"data row7 col0\" >sqft_lot15</td> \n",
       "        <td id=\"T_4e3aceea_90b6_11e8_94f1_74d43500427crow7_col1\" class=\"data row7 col1\" >0.0123324</td> \n",
       "    </tr>    <tr> \n",
       "        <th id=\"T_4e3aceea_90b6_11e8_94f1_74d43500427clevel0_row8\" class=\"row_heading level0 row8\" >10</th> \n",
       "        <td id=\"T_4e3aceea_90b6_11e8_94f1_74d43500427crow8_col0\" class=\"data row8 col0\" >sqft_above</td> \n",
       "        <td id=\"T_4e3aceea_90b6_11e8_94f1_74d43500427crow8_col1\" class=\"data row8 col1\" >0.0123009</td> \n",
       "    </tr>    <tr> \n",
       "        <th id=\"T_4e3aceea_90b6_11e8_94f1_74d43500427clevel0_row9\" class=\"row_heading level0 row9\" >14</th> \n",
       "        <td id=\"T_4e3aceea_90b6_11e8_94f1_74d43500427crow9_col0\" class=\"data row9 col0\" >zipcode</td> \n",
       "        <td id=\"T_4e3aceea_90b6_11e8_94f1_74d43500427crow9_col1\" class=\"data row9 col1\" >0.00922529</td> \n",
       "    </tr>    <tr> \n",
       "        <th id=\"T_4e3aceea_90b6_11e8_94f1_74d43500427clevel0_row10\" class=\"row_heading level0 row10\" >31</th> \n",
       "        <td id=\"T_4e3aceea_90b6_11e8_94f1_74d43500427crow10_col0\" class=\"data row10 col0\" >date_elapsed</td> \n",
       "        <td id=\"T_4e3aceea_90b6_11e8_94f1_74d43500427crow10_col1\" class=\"data row10 col1\" >0.00843512</td> \n",
       "    </tr>    <tr> \n",
       "        <th id=\"T_4e3aceea_90b6_11e8_94f1_74d43500427clevel0_row11\" class=\"row_heading level0 row11\" >7</th> \n",
       "        <td id=\"T_4e3aceea_90b6_11e8_94f1_74d43500427crow11_col0\" class=\"data row11 col0\" >view</td> \n",
       "        <td id=\"T_4e3aceea_90b6_11e8_94f1_74d43500427crow11_col1\" class=\"data row11 col1\" >0.00788506</td> \n",
       "    </tr>    <tr> \n",
       "        <th id=\"T_4e3aceea_90b6_11e8_94f1_74d43500427clevel0_row12\" class=\"row_heading level0 row12\" >0</th> \n",
       "        <td id=\"T_4e3aceea_90b6_11e8_94f1_74d43500427crow12_col0\" class=\"data row12 col0\" >id</td> \n",
       "        <td id=\"T_4e3aceea_90b6_11e8_94f1_74d43500427crow12_col1\" class=\"data row12 col1\" >0.00660047</td> \n",
       "    </tr>    <tr> \n",
       "        <th id=\"T_4e3aceea_90b6_11e8_94f1_74d43500427clevel0_row13\" class=\"row_heading level0 row13\" >6</th> \n",
       "        <td id=\"T_4e3aceea_90b6_11e8_94f1_74d43500427crow13_col0\" class=\"data row13 col0\" >waterfront</td> \n",
       "        <td id=\"T_4e3aceea_90b6_11e8_94f1_74d43500427crow13_col1\" class=\"data row13 col1\" >0.00563441</td> \n",
       "    </tr>    <tr> \n",
       "        <th id=\"T_4e3aceea_90b6_11e8_94f1_74d43500427clevel0_row14\" class=\"row_heading level0 row14\" >22</th> \n",
       "        <td id=\"T_4e3aceea_90b6_11e8_94f1_74d43500427crow14_col0\" class=\"data row14 col0\" >date_Day</td> \n",
       "        <td id=\"T_4e3aceea_90b6_11e8_94f1_74d43500427crow14_col1\" class=\"data row14 col1\" >0.00537404</td> \n",
       "    </tr>    <tr> \n",
       "        <th id=\"T_4e3aceea_90b6_11e8_94f1_74d43500427clevel0_row15\" class=\"row_heading level0 row15\" >8</th> \n",
       "        <td id=\"T_4e3aceea_90b6_11e8_94f1_74d43500427crow15_col0\" class=\"data row15 col0\" >condition</td> \n",
       "        <td id=\"T_4e3aceea_90b6_11e8_94f1_74d43500427crow15_col1\" class=\"data row15 col1\" >0.00424576</td> \n",
       "    </tr>    <tr> \n",
       "        <th id=\"T_4e3aceea_90b6_11e8_94f1_74d43500427clevel0_row16\" class=\"row_heading level0 row16\" >24</th> \n",
       "        <td id=\"T_4e3aceea_90b6_11e8_94f1_74d43500427crow16_col0\" class=\"data row16 col0\" >date_Dayofyear</td> \n",
       "        <td id=\"T_4e3aceea_90b6_11e8_94f1_74d43500427crow16_col1\" class=\"data row16 col1\" >0.00422893</td> \n",
       "    </tr>    <tr> \n",
       "        <th id=\"T_4e3aceea_90b6_11e8_94f1_74d43500427clevel0_row17\" class=\"row_heading level0 row17\" >2</th> \n",
       "        <td id=\"T_4e3aceea_90b6_11e8_94f1_74d43500427crow17_col0\" class=\"data row17 col0\" >bathrooms</td> \n",
       "        <td id=\"T_4e3aceea_90b6_11e8_94f1_74d43500427crow17_col1\" class=\"data row17 col1\" >0.00413867</td> \n",
       "    </tr>    <tr> \n",
       "        <th id=\"T_4e3aceea_90b6_11e8_94f1_74d43500427clevel0_row18\" class=\"row_heading level0 row18\" >21</th> \n",
       "        <td id=\"T_4e3aceea_90b6_11e8_94f1_74d43500427crow18_col0\" class=\"data row18 col0\" >date_Week</td> \n",
       "        <td id=\"T_4e3aceea_90b6_11e8_94f1_74d43500427crow18_col1\" class=\"data row18 col1\" >0.00299045</td> \n",
       "    </tr>    <tr> \n",
       "        <th id=\"T_4e3aceea_90b6_11e8_94f1_74d43500427clevel0_row19\" class=\"row_heading level0 row19\" >23</th> \n",
       "        <td id=\"T_4e3aceea_90b6_11e8_94f1_74d43500427crow19_col0\" class=\"data row19 col0\" >date_Dayofweek</td> \n",
       "        <td id=\"T_4e3aceea_90b6_11e8_94f1_74d43500427crow19_col1\" class=\"data row19 col1\" >0.00262278</td> \n",
       "    </tr>    <tr> \n",
       "        <th id=\"T_4e3aceea_90b6_11e8_94f1_74d43500427clevel0_row20\" class=\"row_heading level0 row20\" >11</th> \n",
       "        <td id=\"T_4e3aceea_90b6_11e8_94f1_74d43500427crow20_col0\" class=\"data row20 col0\" >sqft_basement</td> \n",
       "        <td id=\"T_4e3aceea_90b6_11e8_94f1_74d43500427crow20_col1\" class=\"data row20 col1\" >0.00252609</td> \n",
       "    </tr>    <tr> \n",
       "        <th id=\"T_4e3aceea_90b6_11e8_94f1_74d43500427clevel0_row21\" class=\"row_heading level0 row21\" >1</th> \n",
       "        <td id=\"T_4e3aceea_90b6_11e8_94f1_74d43500427crow21_col0\" class=\"data row21 col0\" >bedrooms</td> \n",
       "        <td id=\"T_4e3aceea_90b6_11e8_94f1_74d43500427crow21_col1\" class=\"data row21 col1\" >0.00219644</td> \n",
       "    </tr>    <tr> \n",
       "        <th id=\"T_4e3aceea_90b6_11e8_94f1_74d43500427clevel0_row22\" class=\"row_heading level0 row22\" >20</th> \n",
       "        <td id=\"T_4e3aceea_90b6_11e8_94f1_74d43500427crow22_col0\" class=\"data row22 col0\" >date_Month</td> \n",
       "        <td id=\"T_4e3aceea_90b6_11e8_94f1_74d43500427crow22_col1\" class=\"data row22 col1\" >0.00133149</td> \n",
       "    </tr>    <tr> \n",
       "        <th id=\"T_4e3aceea_90b6_11e8_94f1_74d43500427clevel0_row23\" class=\"row_heading level0 row23\" >5</th> \n",
       "        <td id=\"T_4e3aceea_90b6_11e8_94f1_74d43500427crow23_col0\" class=\"data row23 col0\" >floors</td> \n",
       "        <td id=\"T_4e3aceea_90b6_11e8_94f1_74d43500427crow23_col1\" class=\"data row23 col1\" >0.00116408</td> \n",
       "    </tr>    <tr> \n",
       "        <th id=\"T_4e3aceea_90b6_11e8_94f1_74d43500427clevel0_row24\" class=\"row_heading level0 row24\" >13</th> \n",
       "        <td id=\"T_4e3aceea_90b6_11e8_94f1_74d43500427crow24_col0\" class=\"data row24 col0\" >yr_renovated</td> \n",
       "        <td id=\"T_4e3aceea_90b6_11e8_94f1_74d43500427crow24_col1\" class=\"data row24 col1\" >0.000981964</td> \n",
       "    </tr>    <tr> \n",
       "        <th id=\"T_4e3aceea_90b6_11e8_94f1_74d43500427clevel0_row25\" class=\"row_heading level0 row25\" >19</th> \n",
       "        <td id=\"T_4e3aceea_90b6_11e8_94f1_74d43500427crow25_col0\" class=\"data row25 col0\" >date_Year</td> \n",
       "        <td id=\"T_4e3aceea_90b6_11e8_94f1_74d43500427crow25_col1\" class=\"data row25 col1\" >0.000216619</td> \n",
       "    </tr>    <tr> \n",
       "        <th id=\"T_4e3aceea_90b6_11e8_94f1_74d43500427clevel0_row26\" class=\"row_heading level0 row26\" >25</th> \n",
       "        <td id=\"T_4e3aceea_90b6_11e8_94f1_74d43500427crow26_col0\" class=\"data row26 col0\" >date_Is_month_end</td> \n",
       "        <td id=\"T_4e3aceea_90b6_11e8_94f1_74d43500427crow26_col1\" class=\"data row26 col1\" >0.000130308</td> \n",
       "    </tr>    <tr> \n",
       "        <th id=\"T_4e3aceea_90b6_11e8_94f1_74d43500427clevel0_row27\" class=\"row_heading level0 row27\" >26</th> \n",
       "        <td id=\"T_4e3aceea_90b6_11e8_94f1_74d43500427crow27_col0\" class=\"data row27 col0\" >date_Is_month_start</td> \n",
       "        <td id=\"T_4e3aceea_90b6_11e8_94f1_74d43500427crow27_col1\" class=\"data row27 col1\" >0.000101814</td> \n",
       "    </tr>    <tr> \n",
       "        <th id=\"T_4e3aceea_90b6_11e8_94f1_74d43500427clevel0_row28\" class=\"row_heading level0 row28\" >28</th> \n",
       "        <td id=\"T_4e3aceea_90b6_11e8_94f1_74d43500427crow28_col0\" class=\"data row28 col0\" >date_Is_quarter_start</td> \n",
       "        <td id=\"T_4e3aceea_90b6_11e8_94f1_74d43500427crow28_col1\" class=\"data row28 col1\" >7.85531e-05</td> \n",
       "    </tr>    <tr> \n",
       "        <th id=\"T_4e3aceea_90b6_11e8_94f1_74d43500427clevel0_row29\" class=\"row_heading level0 row29\" >27</th> \n",
       "        <td id=\"T_4e3aceea_90b6_11e8_94f1_74d43500427crow29_col0\" class=\"data row29 col0\" >date_Is_quarter_end</td> \n",
       "        <td id=\"T_4e3aceea_90b6_11e8_94f1_74d43500427crow29_col1\" class=\"data row29 col1\" >6.43207e-05</td> \n",
       "    </tr>    <tr> \n",
       "        <th id=\"T_4e3aceea_90b6_11e8_94f1_74d43500427clevel0_row30\" class=\"row_heading level0 row30\" >29</th> \n",
       "        <td id=\"T_4e3aceea_90b6_11e8_94f1_74d43500427crow30_col0\" class=\"data row30 col0\" >date_Is_year_end</td> \n",
       "        <td id=\"T_4e3aceea_90b6_11e8_94f1_74d43500427crow30_col1\" class=\"data row30 col1\" >6.1779e-07</td> \n",
       "    </tr>    <tr> \n",
       "        <th id=\"T_4e3aceea_90b6_11e8_94f1_74d43500427clevel0_row31\" class=\"row_heading level0 row31\" >30</th> \n",
       "        <td id=\"T_4e3aceea_90b6_11e8_94f1_74d43500427crow31_col0\" class=\"data row31 col0\" >date_Is_year_start</td> \n",
       "        <td id=\"T_4e3aceea_90b6_11e8_94f1_74d43500427crow31_col1\" class=\"data row31 col1\" >0</td> \n",
       "    </tr></tbody> \n",
       "</table> "
      ],
      "text/plain": [
       "<pandas.io.formats.style.Styler at 0x7f455b6e3cf8>"
      ]
     },
     "execution_count": 38,
     "metadata": {},
     "output_type": "execute_result"
    }
   ],
   "source": [
    "imp = pd.DataFrame({'cols':x_train.columns, 'imp':m.feature_importances_}).sort_values('imp', ascending=False)\n",
    "imp.style.bar()"
   ]
  },
  {
   "cell_type": "markdown",
   "metadata": {},
   "source": [
    "### Una mejor forma de obtener feature importance"
   ]
  },
  {
   "cell_type": "code",
   "execution_count": 39,
   "metadata": {
    "scrolled": true
   },
   "outputs": [
    {
     "data": {
      "image/png": "[encoded data removed]",
      "text/plain": [
       "<Figure size 360x648 with 1 Axes>"
      ]
     },
     "metadata": {},
     "output_type": "display_data"
    }
   ],
   "source": [
    "from rfpimp import importances, plot_importances\n",
    "\n",
    "imp = importances(m, x_val, y_val)\n",
    "plot_importances(imp, figsize=(5,9));"
   ]
  },
  {
   "cell_type": "markdown",
   "metadata": {},
   "source": [
    "## Partial Dependence Plot"
   ]
  },
  {
   "cell_type": "markdown",
   "metadata": {},
   "source": [
    "## Tree interpreter"
   ]
  },
  {
   "cell_type": "markdown",
   "metadata": {},
   "source": [
    "## Ejercicio 2: Utilizar los métodos de interpretación en el Census Income Data Set"
   ]
  },
  {
   "cell_type": "markdown",
   "metadata": {},
   "source": [
    "# Revisitando Train-validation split"
   ]
  },
  {
   "cell_type": "code",
   "execution_count": 45,
   "metadata": {},
   "outputs": [
    {
     "name": "stdout",
     "output_type": "stream",
     "text": [
      "Train shape     : (17290, 32)\n",
      "Validation shape: (4323, 32)\n"
     ]
    }
   ],
   "source": [
    "df = df_raw.sort_values('date_elapsed')\n",
    "x = df.drop('price', axis=1)\n",
    "y = df['price']\n",
    "\n",
    "x_train, x_val, y_train, y_val = train_test_split(x, y, test_size=0.2, shuffle=False)\n",
    "print(f'Train shape     : {x_train.shape}')\n",
    "print(f'Validation shape: {x_val.shape}')"
   ]
  },
  {
   "cell_type": "code",
   "execution_count": 51,
   "metadata": {},
   "outputs": [
    {
     "data": {
      "text/plain": [
       "RandomForestRegressor(bootstrap=True, criterion='mse', max_depth=None,\n",
       "           max_features='auto', max_leaf_nodes=None,\n",
       "           min_impurity_decrease=0.0, min_impurity_split=None,\n",
       "           min_samples_leaf=1, min_samples_split=2,\n",
       "           min_weight_fraction_leaf=0.0, n_estimators=40, n_jobs=-1,\n",
       "           oob_score=True, random_state=None, verbose=0, warm_start=False)"
      ]
     },
     "execution_count": 51,
     "metadata": {},
     "output_type": "execute_result"
    }
   ],
   "source": [
    "m = RandomForestRegressor(40, n_jobs=-1, oob_score=True)\n",
    "m.fit(x_train, y_train)"
   ]
  },
  {
   "cell_type": "markdown",
   "metadata": {},
   "source": [
    "**Last score**:\n",
    "\n",
    "* Train score      = 0.9833\n",
    "* Validation score = 0.8884\n",
    "* OOB score        = 0.879"
   ]
  },
  {
   "cell_type": "code",
   "execution_count": 52,
   "metadata": {},
   "outputs": [
    {
     "name": "stdout",
     "output_type": "stream",
     "text": [
      "Train score      = 0.9836\n",
      "Validation score = 0.8591\n",
      "OOB score        = 0.8837\n"
     ]
    }
   ],
   "source": [
    "score()"
   ]
  },
  {
   "cell_type": "markdown",
   "metadata": {},
   "source": [
    "# Debilidades de Random Forest"
   ]
  },
  {
   "cell_type": "code",
   "execution_count": null,
   "metadata": {},
   "outputs": [],
   "source": []
  },
  {
   "cell_type": "code",
   "execution_count": null,
   "metadata": {},
   "outputs": [],
   "source": []
  }
 ],
 "metadata": {
  "kernelspec": {
   "display_name": "Python 3",
   "language": "python",
   "name": "python3"
  },
  "language_info": {
   "codemirror_mode": {
    "name": "ipython",
    "version": 3
   },
   "file_extension": ".py",
   "mimetype": "text/x-python",
   "name": "python",
   "nbconvert_exporter": "python",
   "pygments_lexer": "ipython3",
   "version": "3.6.6"
  },
  "toc": {
   "base_numbering": 1,
   "nav_menu": {},
   "number_sections": true,
   "sideBar": true,
   "skip_h1_title": false,
   "title_cell": "Table of Contents",
   "title_sidebar": "Contents",
   "toc_cell": false,
   "toc_position": {},
   "toc_section_display": true,
   "toc_window_display": false
  }
 },
 "nbformat": 4,
 "nbformat_minor": 2
}
